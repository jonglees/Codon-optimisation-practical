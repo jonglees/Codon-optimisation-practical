{
  "nbformat": 4,
  "nbformat_minor": 0,
  "metadata": {
    "colab": {
      "provenance": [],
      "toc_visible": true,
      "authorship_tag": "ABX9TyPi97BSCABHF6KdUe/xLbvR",
      "include_colab_link": true
    },
    "kernelspec": {
      "name": "python3",
      "display_name": "Python 3"
    },
    "language_info": {
      "name": "python"
    }
  },
  "cells": [
    {
      "cell_type": "markdown",
      "metadata": {
        "id": "view-in-github",
        "colab_type": "text"
      },
      "source": [
        "<a href=\"https://colab.research.google.com/github/jonglees/Codon-optimisation-practical/blob/main/rf_optimise.ipynb\" target=\"_parent\"><img src=\"https://colab.research.google.com/assets/colab-badge.svg\" alt=\"Open In Colab\"/></a>"
      ]
    },
    {
      "cell_type": "markdown",
      "source": [
        "The biotech company you work for has a peptide therapeutic that it selling so well they can't make enough of it. They would like to be able to make more of this peptide using a novel microbial expression system. They suspect that codons of the mRNA sequence are not optimal. The companies experimental team have tried traditional codon optimisation (replacing codons with the most frequent ones) but the protein expression levels don't change. You suggest in a meeting to your companies CEO trying machine learning. They agree and give you the experimental teams initial dataset of different synonymous sequences and protein expression values...good luck !!\n"
      ],
      "metadata": {
        "id": "uOEKYwoBz3uF"
      }
    },
    {
      "cell_type": "markdown",
      "source": [
        "# Download data"
      ],
      "metadata": {
        "id": "n2Utrt7izif9"
      }
    },
    {
      "cell_type": "code",
      "execution_count": null,
      "metadata": {
        "colab": {
          "base_uri": "https://localhost:8080/"
        },
        "id": "VkCe8zJnZOT3",
        "outputId": "3072826a-226c-4a06-ec1c-40ec31e5b7fe"
      },
      "outputs": [
        {
          "output_type": "stream",
          "name": "stdout",
          "text": [
            "--2025-03-10 15:59:38--  https://raw.githubusercontent.com/jonglees/Codon-optimisation-practical/refs/heads/main/mRFP_Expression_train_valid.csv\n",
            "Resolving raw.githubusercontent.com (raw.githubusercontent.com)... 185.199.108.133, 185.199.109.133, 185.199.110.133, ...\n",
            "Connecting to raw.githubusercontent.com (raw.githubusercontent.com)|185.199.108.133|:443... connected.\n",
            "HTTP request sent, awaiting response... 200 OK\n",
            "Length: 869855 (849K) [text/plain]\n",
            "Saving to: ‘mRFP_Expression_train_valid.csv’\n",
            "\n",
            "mRFP_Expression_tra 100%[===================>] 849.47K  3.50MB/s    in 0.2s    \n",
            "\n",
            "2025-03-10 15:59:39 (3.50 MB/s) - ‘mRFP_Expression_train_valid.csv’ saved [869855/869855]\n",
            "\n"
          ]
        }
      ],
      "source": [
        "!wget https://raw.githubusercontent.com/jonglees/Codon-optimisation-practical/refs/heads/main/mRFP_Expression_train_valid.csv"
      ]
    },
    {
      "cell_type": "code",
      "source": [
        "!head mRFP_Expression_train_valid.csv"
      ],
      "metadata": {
        "colab": {
          "base_uri": "https://localhost:8080/"
        },
        "id": "RfSu-gPZZjP3",
        "outputId": "86407e8a-0738-4f1f-c4af-f804194aab50"
      },
      "execution_count": null,
      "outputs": [
        {
          "output_type": "stream",
          "name": "stdout",
          "text": [
            ",Sequence,Value\n",
            "0,AUGGCAUCAUCAGAAGACGUCAUAAAAGAAUUUAUGCGAUUCAAAGUCCGCAUGGAAGGGUCAGUAAACGGACACGAAUUCGAAAUCGAAGGAGAAGGAGAAGGCCGCCCAUACGAAGGUACCCAAACAGCCAAACUAAAAGUAACUAAAGGCGGACCACUCCCCUUCGCCUGGGACAUCCUCUCGCCCCAGUUCCAGUACGGGUCUAAAGCCUACGUCAAGCACCCCGCCGAUAUUCCGGAUUAUCUGAAACUAUCGUUUCCAGAGGGUUUUAAAUGGGAGCGGGUAAUGAAUUUUGAAGACGGAGGGGUAGUAACUGUUACUCAAGACUCAUCUCUGCAGGAUGGUGAAUUUAUCUAUAAGGUCAAACUACGAGGCACCAACUUCCCGUCGGACGGACCAGUCAUGCAAAAAAAAACCAUGGGUUGGGAGGCUUCUACCGAACGCAUGUACCCCGAGGACGGCGCGCUCAAAGGCGAGAUCAAGAUGCGUCUCAAACUCAAGGACGGAGGUCAUUAUGAUGCGGAAGUUAAGACUACUUACAUGGCAAAGAAACCAGUCCAACUACCGGGAGCAUAUAAAACUGACAUAAAGCUUGAUAUUACGUCGCAUAAUGAGGAUUACACUAUUGUGGAGCAGUAUGAGCGGGCCGAGGGCCGGCAUUCUACCGGUGCGUGA,10.164760474265888\n",
            "1,AUGGCGUCUUCAGAGGAUGUAAUCAAGGAAUUCAUGCGUUUUAAGGUGCGGAUGGAAGGUUCGGUAAACGGACAUGAGUUUGAAAUCGAAGGAGAAGGCGAGGGACGCCCGUAUGAGGGUACGCAAACGGCUAAACUUAAGGUUACUAAGGGUGGUCCGCUGCCCUUCGCCUGGGAUAUUCUAUCGCCCCAAUUUCAAUAUGGGUCAAAGGCGUACGUUAAACAUCCUGCCGAUAUACCGGACUACCUGAAACUGUCAUUUCCGGAGGGAUUCAAGUGGGAACGAGUCAUGAAUUUCGAAGACGGGGGGGUGGUUACCGUGACACAGGAUUCGUCUCUGCAGGACGGGGAGUUUAUCUAUAAGGUAAAGCUGCGAGGGACGAAUUUCCCUUCGGAUGGUCCGGUGAUGCAGAAAAAAACCAUGGGUUGGGAGGCUUCAACGGAACGGAUGUACCCGGAGGAUGGGGCACUGAAGGGAGAAAUCAAAAUGCGGCUUAAACUCAAGGACGGAGGUCAUUACGAUGCAGAAGUAAAAACCACCUAUAUGGCUAAAAAACCUGUGCAGCUACCUGGCGCGUAUAAAACUGACAUAAAACUAGACAUCACCUCUCACAAUGAGGACUAUACAAUUGUUGAGCAAUAUGAGCGUGCGGAGGGGCGACAUUCGACUGGUGCUUGA,10.572869169600745\n",
            "2,AUGGCAUCAUCGGAAGAUGUAAUAAAGGAAUUUAUGCGUUUCAAAGUGCGCAUGGAAGGGUCCGUCAAUGGGCACGAAUUUGAAAUAGAGGGGGAAGGUGAAGGGCGACCGUACGAGGGCACGCAAACCGCUAAGCUGAAAGUGACUAAAGGGGGUCCCCUGCCUUUCGCCUGGGAUAUCCUUUCCCCACAAUUUCAAUAUGGUUCGAAAGCUUAUGUUAAGCAUCCCGCGGAUAUACCCGACUAUCUGAAACUGUCGUUCCCUGAAGGUUUCAAAUGGGAGCGUGUUAUGAAUUUCGAAGACGGUGGAGUUGUCACUGUGACGCAGGAUUCAUCACUGCAGGAUGGGGAGUUCAUCUACAAGGUGAAACUGCGGGGCACGAAUUUUCCGUCGGACGGUCCUGUGAUGCAGAAGAAGACCAUGGGUUGGGAAGCGUCCACUGAACGAAUGUACCCGGAAGAUGGAGCACUAAAGGGGGAGAUCAAGAUGCGCCUUAAACUGAAGGACGGCGGGCACUACGACGCGGAAGUUAAGACGACGUAUAUGGCAAAGAAGCCAGUCCAGCUGCCGGGCGCUUACAAAACGGACAUAAAACUCGACAUCACCUCACAUAACGAGGACUAUACAAUAGUUGAGCAGUAUGAACGGGCUGAGGGGCGUCACUCUACAGGCGCGUGA,9.76691222533002\n",
            "3,AUGGCGAGUAGUGAAGACGUUAUCAAAGAAUUUAUGCGUUUUAAGGUGCGUAUGGAAGGUAGCGUCAAUGGCCAUGAAUUCGAAAUCGAAGGCGAAGGUGAAGGUCGCCCGUACGAAGGCACGCAAACGGCAAAGCUGAAAGUCACGAAAGGUGGUCCGCUGCCGUUCGCCUGGGAUAUUCUGAGUCCGCAAUUUCAGUAUGGCAGUAAGGCCUAUGUGAAGCACCCGGCGGACAUUCCGGACUACCUGAAACUGAGUUUUCCGGAAGGUUUUAAAUGGGAACGCGUUAUGAAUUUCGAAGAUGGUGGCGUGGUGACGGUUACGCAGGAUAGCAGCCUGCAAGAUGGCGAAUUUAUUUAUAAGGUGAAACUGCGUGGUACGAAUUUUCCGAGUGAUGGUCCGGUUAUGCAGAAAAAGACCAUGGGUUGGGAAGCGAGUACGGAACGUAUGUACCCGGAAGACGGCGCACUGAAGGGCGAAAUUAAGAUGCGUCUGAAGCUGAAGGACGGCGGCCAUUACGAUGCCGAAGUGAAAACGACGUAUAUGGCGAAGAAGCCGGUGCAGCUGCCGGGCGCGUAUAAAACGGACAUAAAACUGGACAUUACGAGUCAUAACGAAGAUUACACGAUUGUGGAACAGUAUGAACGUGCCGAAGGCCGCCACAGUACGGGCGCCUGA,9.926980772279864\n",
            "4,AUGGCUUCUUCUGAGGACGUAAUAAAGGAGUUCAUGAGGUUCAAGGUAAGGAUGGAGGGAUCCGUAAAUGGGCACGAGUUCGAAAUAGAGGGGGAGGGAGAGGGGAGGCCUUACGAGGGAACACAAACAGCUAAGCUAAAGGUCACUAAGGGGGGGCCCCUUCCAUUCGCCUGGGACAUACUUUCGCCUCAAUUCCAAUACGGGUCCAAGGCAUACGUAAAGCACCCAGCAGACAUACCCGACUACCUGAAACUCUCAUUCCCUGAGGGGUUCAAGUGGGAGAGGGUCAUGAAUUUCGAGGACGGGGGGGUCGUAACUGUAACUCAAGACUCUUCCCUGCAAGACGGGGAGUUCAUAUACAAGGUCAAGCUAAGAGGAACAAAUUUCCCUUCCGACGGACCCGUCAUGCAAAAGAAGACCAUGGGGUGGGAGGCAUCCACAGAGAGAAUGUACCCCGAGGACGGAGCUCUUAAGGGAGAGAUAAAGAUGAGACUUAAGCUCAAGGACGGGGGGCACUACGACGCUGAGGUAAAGACAACAUACAUGGCAAAGAAGCCCGUACAACUUCCAGGGGCAUACAAGACUGACAUAAAGCUUGACAUAACUUCUCACAAUGAGGACUACACUAUAGUCGAGCAAUACGAGAGAGCUGAGGGGAGACACUCGACUGGGGCUUGA,9.85707438016801\n",
            "5,AUGGCAUCAUCAGAGGACGUAAUAAAGGAGUUCAUGAGGUUCAAGGUCAGAAUGGAGGGGUCAGUAAAUGGACACGAGUUCGAAAUAGAGGGGGAGGGAGAGGGAAGGCCCUACGAGGGAACACAAACAGCUAAGCUUAAGGUCACUAAGGGAGGACCCCUCCCCUUCGCCUGGGACAUACUAUCUCCACAAUUCCAAUACGGGUCAAAGGCUUACGUAAAGCACCCUGCUGACAUACCUGACUACCUGAAACUCUCUUUCCCCGAGGGGUUCAAGUGGGAGAGGGUCAUGAAUUUCGAGGACGGAGGGGUCGUCACUGUCACUCAAGACUCGUCCCUGCAAGACGGGGAGUUCAUAUACAAGGUCAAGCUUAGGGGAACAAAUUUCCCAUCGGACGGACCCGUAAUGCAAAAGAAGACCAUGGGGUGGGAGGCAUCGACUGAGAGAAUGUACCCUGAGGACGGAGCACUAAAGGGGGAGAUAAAGAUGAGACUCAAGCUCAAGGACGGAGGGCACUACGACGCAGAGGUCAAGACAACUUACAUGGCUAAGAAGCCUGUACAACUACCAGGGGCAUACAAGACAGACAUAAAGCUUGACAUAACUUCACACAAUGAGGACUACACUAUAGUAGAGCAAUACGAGAGGGCUGAGGGAAGACACUCGACAGGAGCAUGA,10.34957745505237\n",
            "6,AUGGCUUCAUCUGAGGACGUAAUAAAGGAGUUCAUGAGAUUCAAGGUAAGGAUGGAGGGGUCCGUAAAUGGGCACGAGUUCGAAAUAGAGGGAGAGGGGGAGGGAAGGCCUUACGAGGGAACUCAAACUGCAAAGCUUAAGGUCACUAAGGGAGGACCUCUCCCCUUCGCCUGGGACAUACUUUCACCCCAAUUCCAAUACGGAUCUAAGGCUUACGUCAAGCACCCAGCUGACAUACCCGACUACCUGAAACUAUCGUUCCCCGAGGGAUUCAAGUGGGAGAGGGUAAUGAAUUUCGAGGACGGAGGAGUCGUCACUGUAACUCAAGACUCAUCCCUGCAAGACGGGGAGUUCAUAUACAAGGUAAAGCUAAGAGGAACAAAUUUCCCUUCAGACGGGCCCGUCAUGCAAAAGAAGACCAUGGGAUGGGAGGCAUCCACUGAGAGAAUGUACCCUGAGGACGGGGCUCUCAAGGGAGAGAUAAAGAUGAGACUAAAGCUUAAGGACGGGGGGCACUACGACGCUGAGGUCAAGACAACUUACAUGGCUAAGAAGCCCGUCCAACUACCUGGAGCUUACAAGACAGACAUAAAGCUAGACAUAACAUCGCACAAUGAGGACUACACAAUAGUCGAGCAAUACGAGAGGGCAGAGGGAAGACACUCUACAGGGGCAUGA,10.142634317334942\n",
            "7,AUGGCCUCGUCGGAGGACGUUAUCAAAGAAUUUAUGCGUUUCAAGGUUCGUAUGGAGGGAUCGGUUAAUGGUCAUGAGUUUGAAAUUGAAGGUGAAGGAGAAGGUCGCCCCUAUGAAGGAACGCAGACAGCAAAGCUCAAGGUUACUAAAGGUGGUCCACUGCCAUUCGCCUGGGACAUCCUUUCGCCACAGUUUCAGUACGGGUCGAAGGCAUACGUUAAGCAUCCAGCCGACAUUCCAGAUUAUCUGAAACUUUCGUUUCCAGAAGGUUUCAAGUGGGAGCGGGUUAUGAACUUUGAGGACGGGGGUGUUGUGACUGUGACACAAGACUCGUCUCUGCAGGAUGGUGAAUUUAUAUAUAAAGUUAAACUGCGAGGUACAAAUUUCCCUUCUGAUGGUCCUGUUAUGCAAAAGAAGACCAUGGGGUGGGAAGCAUCGACAGAGCGUAUGUAUCCUGAGGACGGUGCGCUCAAAGGCGAAAUCAAAAUGCGGCUGAAGCUUAAGGACGGAGGUCAUUAUGACGCUGAAGUGAAAACAACUUACAUGGCCAAGAAACCAGUCCAGCUUCCAGGCGCUUAUAAGACCGACAUAAAACUCGAUAUAACCUCGCACAAUGAGGAUUAUACUAUAGUCGAGCAGUAUGAGCGAGCAGAAGGGCGACAUUCUACAGGUGCGUGA,8.734497647053821\n",
            "8,AUGGCUUCAUCUGAGGACGUAAUAAAGGAGUUCAUGAGAUUCAAGGUAAGAAUGGAGGGAUCCGUAAAUGGACACGAGUUCGAAAUAGAGGGAGAGGGAGAGGGGAGGCCCUACGAGGGAACUCAAACUGCAAAGCUUAAGGUCACAAAGGGAGGGCCUCUCCCCUUCGCCUGGGACAUACUUUCGCCCCAAUUCCAAUACGGGUCGAAGGCUUACGUAAAGCACCCAGCAGACAUACCUGACUACCUGAAACUUUCGUUCCCUGAGGGAUUCAAGUGGGAGAGGGUCAUGAAUUUCGAGGACGGAGGGGUCGUCACUGUAACUCAAGACUCGUCACUGCAAGACGGGGAGUUCAUAUACAAGGUAAAGCUAAGGGGGACUAAUUUCCCCUCGGACGGGCCUGUCAUGCAAAAGAAGACCAUGGGAUGGGAGGCAUCGACUGAGAGAAUGUACCCCGAGGACGGAGCUCUAAAGGGGGAGAUAAAGAUGAGGCUCAAGCUCAAGGACGGAGGACACUACGACGCAGAGGUCAAGACAACUUACAUGGCUAAGAAGCCAGUCCAACUCCCCGGAGCUUACAAGACUGACAUAAAGCUAGACAUAACUUCUCACAAUGAGGACUACACUAUAGUAGAGCAAUACGAGAGAGCAGAGGGAAGGCACUCAACUGGGGCAUGA,10.42529327291235\n"
          ]
        }
      ]
    },
    {
      "cell_type": "code",
      "source": [
        "import pandas as pd\n",
        "df = pd.read_csv('mRFP_Expression_train_valid.csv')"
      ],
      "metadata": {
        "id": "4cGMSjQuZ61H"
      },
      "execution_count": null,
      "outputs": []
    },
    {
      "cell_type": "code",
      "source": [
        "df"
      ],
      "metadata": {
        "colab": {
          "base_uri": "https://localhost:8080/",
          "height": 411
        },
        "id": "ALaVR6ZWaBL-",
        "outputId": "d401e459-98c3-4883-f25a-a1faabd381cf"
      },
      "execution_count": null,
      "outputs": [
        {
          "output_type": "execute_result",
          "data": {
            "text/plain": [
              "      Unnamed: 0                                           Sequence      Value\n",
              "0              0  AUGGCAUCAUCAGAAGACGUCAUAAAAGAAUUUAUGCGAUUCAAAG...  10.164760\n",
              "1              1  AUGGCGUCUUCAGAGGAUGUAAUCAAGGAAUUCAUGCGUUUUAAGG...  10.572869\n",
              "2              2  AUGGCAUCAUCGGAAGAUGUAAUAAAGGAAUUUAUGCGUUUCAAAG...   9.766912\n",
              "3              3  AUGGCGAGUAGUGAAGACGUUAUCAAAGAAUUUAUGCGUUUUAAGG...   9.926981\n",
              "4              4  AUGGCUUCUUCUGAGGACGUAAUAAAGGAGUUCAUGAGGUUCAAGG...   9.857074\n",
              "...          ...                                                ...        ...\n",
              "1235        1235  AUGGCGAGCAGUGAAGACGUUAUUAAGGAAUUUAUGCGCUUCAAGG...   9.785832\n",
              "1236        1236  AUGGCAUCGUCGGAAGACGUGAUAAAGGAAUUCAUGCGGUUUAAAG...   9.451459\n",
              "1237        1237  AUGGCCAGUAGUGAAGAUGUGAUUAAAGAAUUUAUGCGCUUCAAAG...  10.760540\n",
              "1238        1238  AUGGCAAGCAGCGAAGACGUGAUUAAGGAAUUCAUGCGUUUUAAGG...   9.603192\n",
              "1239        1239  AUGGCGUCAUCGGAGGAUGUUAUCAAGGAAUUCAUGCGUUUCAAGG...  10.277345\n",
              "\n",
              "[1240 rows x 3 columns]"
            ],
            "text/html": [
              "\n",
              "  <div id=\"df-f703cb76-aa02-42b4-9174-86beff0fd769\" class=\"colab-df-container\">\n",
              "    <div>\n",
              "<style scoped>\n",
              "    .dataframe tbody tr th:only-of-type {\n",
              "        vertical-align: middle;\n",
              "    }\n",
              "\n",
              "    .dataframe tbody tr th {\n",
              "        vertical-align: top;\n",
              "    }\n",
              "\n",
              "    .dataframe thead th {\n",
              "        text-align: right;\n",
              "    }\n",
              "</style>\n",
              "<table border=\"1\" class=\"dataframe\">\n",
              "  <thead>\n",
              "    <tr style=\"text-align: right;\">\n",
              "      <th></th>\n",
              "      <th>Unnamed: 0</th>\n",
              "      <th>Sequence</th>\n",
              "      <th>Value</th>\n",
              "    </tr>\n",
              "  </thead>\n",
              "  <tbody>\n",
              "    <tr>\n",
              "      <th>0</th>\n",
              "      <td>0</td>\n",
              "      <td>AUGGCAUCAUCAGAAGACGUCAUAAAAGAAUUUAUGCGAUUCAAAG...</td>\n",
              "      <td>10.164760</td>\n",
              "    </tr>\n",
              "    <tr>\n",
              "      <th>1</th>\n",
              "      <td>1</td>\n",
              "      <td>AUGGCGUCUUCAGAGGAUGUAAUCAAGGAAUUCAUGCGUUUUAAGG...</td>\n",
              "      <td>10.572869</td>\n",
              "    </tr>\n",
              "    <tr>\n",
              "      <th>2</th>\n",
              "      <td>2</td>\n",
              "      <td>AUGGCAUCAUCGGAAGAUGUAAUAAAGGAAUUUAUGCGUUUCAAAG...</td>\n",
              "      <td>9.766912</td>\n",
              "    </tr>\n",
              "    <tr>\n",
              "      <th>3</th>\n",
              "      <td>3</td>\n",
              "      <td>AUGGCGAGUAGUGAAGACGUUAUCAAAGAAUUUAUGCGUUUUAAGG...</td>\n",
              "      <td>9.926981</td>\n",
              "    </tr>\n",
              "    <tr>\n",
              "      <th>4</th>\n",
              "      <td>4</td>\n",
              "      <td>AUGGCUUCUUCUGAGGACGUAAUAAAGGAGUUCAUGAGGUUCAAGG...</td>\n",
              "      <td>9.857074</td>\n",
              "    </tr>\n",
              "    <tr>\n",
              "      <th>...</th>\n",
              "      <td>...</td>\n",
              "      <td>...</td>\n",
              "      <td>...</td>\n",
              "    </tr>\n",
              "    <tr>\n",
              "      <th>1235</th>\n",
              "      <td>1235</td>\n",
              "      <td>AUGGCGAGCAGUGAAGACGUUAUUAAGGAAUUUAUGCGCUUCAAGG...</td>\n",
              "      <td>9.785832</td>\n",
              "    </tr>\n",
              "    <tr>\n",
              "      <th>1236</th>\n",
              "      <td>1236</td>\n",
              "      <td>AUGGCAUCGUCGGAAGACGUGAUAAAGGAAUUCAUGCGGUUUAAAG...</td>\n",
              "      <td>9.451459</td>\n",
              "    </tr>\n",
              "    <tr>\n",
              "      <th>1237</th>\n",
              "      <td>1237</td>\n",
              "      <td>AUGGCCAGUAGUGAAGAUGUGAUUAAAGAAUUUAUGCGCUUCAAAG...</td>\n",
              "      <td>10.760540</td>\n",
              "    </tr>\n",
              "    <tr>\n",
              "      <th>1238</th>\n",
              "      <td>1238</td>\n",
              "      <td>AUGGCAAGCAGCGAAGACGUGAUUAAGGAAUUCAUGCGUUUUAAGG...</td>\n",
              "      <td>9.603192</td>\n",
              "    </tr>\n",
              "    <tr>\n",
              "      <th>1239</th>\n",
              "      <td>1239</td>\n",
              "      <td>AUGGCGUCAUCGGAGGAUGUUAUCAAGGAAUUCAUGCGUUUCAAGG...</td>\n",
              "      <td>10.277345</td>\n",
              "    </tr>\n",
              "  </tbody>\n",
              "</table>\n",
              "<p>1240 rows × 3 columns</p>\n",
              "</div>\n",
              "    <div class=\"colab-df-buttons\">\n",
              "\n",
              "  <div class=\"colab-df-container\">\n",
              "    <button class=\"colab-df-convert\" onclick=\"convertToInteractive('df-f703cb76-aa02-42b4-9174-86beff0fd769')\"\n",
              "            title=\"Convert this dataframe to an interactive table.\"\n",
              "            style=\"display:none;\">\n",
              "\n",
              "  <svg xmlns=\"http://www.w3.org/2000/svg\" height=\"24px\" viewBox=\"0 -960 960 960\">\n",
              "    <path d=\"M120-120v-720h720v720H120Zm60-500h600v-160H180v160Zm220 220h160v-160H400v160Zm0 220h160v-160H400v160ZM180-400h160v-160H180v160Zm440 0h160v-160H620v160ZM180-180h160v-160H180v160Zm440 0h160v-160H620v160Z\"/>\n",
              "  </svg>\n",
              "    </button>\n",
              "\n",
              "  <style>\n",
              "    .colab-df-container {\n",
              "      display:flex;\n",
              "      gap: 12px;\n",
              "    }\n",
              "\n",
              "    .colab-df-convert {\n",
              "      background-color: #E8F0FE;\n",
              "      border: none;\n",
              "      border-radius: 50%;\n",
              "      cursor: pointer;\n",
              "      display: none;\n",
              "      fill: #1967D2;\n",
              "      height: 32px;\n",
              "      padding: 0 0 0 0;\n",
              "      width: 32px;\n",
              "    }\n",
              "\n",
              "    .colab-df-convert:hover {\n",
              "      background-color: #E2EBFA;\n",
              "      box-shadow: 0px 1px 2px rgba(60, 64, 67, 0.3), 0px 1px 3px 1px rgba(60, 64, 67, 0.15);\n",
              "      fill: #174EA6;\n",
              "    }\n",
              "\n",
              "    .colab-df-buttons div {\n",
              "      margin-bottom: 4px;\n",
              "    }\n",
              "\n",
              "    [theme=dark] .colab-df-convert {\n",
              "      background-color: #3B4455;\n",
              "      fill: #D2E3FC;\n",
              "    }\n",
              "\n",
              "    [theme=dark] .colab-df-convert:hover {\n",
              "      background-color: #434B5C;\n",
              "      box-shadow: 0px 1px 3px 1px rgba(0, 0, 0, 0.15);\n",
              "      filter: drop-shadow(0px 1px 2px rgba(0, 0, 0, 0.3));\n",
              "      fill: #FFFFFF;\n",
              "    }\n",
              "  </style>\n",
              "\n",
              "    <script>\n",
              "      const buttonEl =\n",
              "        document.querySelector('#df-f703cb76-aa02-42b4-9174-86beff0fd769 button.colab-df-convert');\n",
              "      buttonEl.style.display =\n",
              "        google.colab.kernel.accessAllowed ? 'block' : 'none';\n",
              "\n",
              "      async function convertToInteractive(key) {\n",
              "        const element = document.querySelector('#df-f703cb76-aa02-42b4-9174-86beff0fd769');\n",
              "        const dataTable =\n",
              "          await google.colab.kernel.invokeFunction('convertToInteractive',\n",
              "                                                    [key], {});\n",
              "        if (!dataTable) return;\n",
              "\n",
              "        const docLinkHtml = 'Like what you see? Visit the ' +\n",
              "          '<a target=\"_blank\" href=https://colab.research.google.com/notebooks/data_table.ipynb>data table notebook</a>'\n",
              "          + ' to learn more about interactive tables.';\n",
              "        element.innerHTML = '';\n",
              "        dataTable['output_type'] = 'display_data';\n",
              "        await google.colab.output.renderOutput(dataTable, element);\n",
              "        const docLink = document.createElement('div');\n",
              "        docLink.innerHTML = docLinkHtml;\n",
              "        element.appendChild(docLink);\n",
              "      }\n",
              "    </script>\n",
              "  </div>\n",
              "\n",
              "\n",
              "<div id=\"df-03c3e576-082d-49b6-b55d-071112caff21\">\n",
              "  <button class=\"colab-df-quickchart\" onclick=\"quickchart('df-03c3e576-082d-49b6-b55d-071112caff21')\"\n",
              "            title=\"Suggest charts\"\n",
              "            style=\"display:none;\">\n",
              "\n",
              "<svg xmlns=\"http://www.w3.org/2000/svg\" height=\"24px\"viewBox=\"0 0 24 24\"\n",
              "     width=\"24px\">\n",
              "    <g>\n",
              "        <path d=\"M19 3H5c-1.1 0-2 .9-2 2v14c0 1.1.9 2 2 2h14c1.1 0 2-.9 2-2V5c0-1.1-.9-2-2-2zM9 17H7v-7h2v7zm4 0h-2V7h2v10zm4 0h-2v-4h2v4z\"/>\n",
              "    </g>\n",
              "</svg>\n",
              "  </button>\n",
              "\n",
              "<style>\n",
              "  .colab-df-quickchart {\n",
              "      --bg-color: #E8F0FE;\n",
              "      --fill-color: #1967D2;\n",
              "      --hover-bg-color: #E2EBFA;\n",
              "      --hover-fill-color: #174EA6;\n",
              "      --disabled-fill-color: #AAA;\n",
              "      --disabled-bg-color: #DDD;\n",
              "  }\n",
              "\n",
              "  [theme=dark] .colab-df-quickchart {\n",
              "      --bg-color: #3B4455;\n",
              "      --fill-color: #D2E3FC;\n",
              "      --hover-bg-color: #434B5C;\n",
              "      --hover-fill-color: #FFFFFF;\n",
              "      --disabled-bg-color: #3B4455;\n",
              "      --disabled-fill-color: #666;\n",
              "  }\n",
              "\n",
              "  .colab-df-quickchart {\n",
              "    background-color: var(--bg-color);\n",
              "    border: none;\n",
              "    border-radius: 50%;\n",
              "    cursor: pointer;\n",
              "    display: none;\n",
              "    fill: var(--fill-color);\n",
              "    height: 32px;\n",
              "    padding: 0;\n",
              "    width: 32px;\n",
              "  }\n",
              "\n",
              "  .colab-df-quickchart:hover {\n",
              "    background-color: var(--hover-bg-color);\n",
              "    box-shadow: 0 1px 2px rgba(60, 64, 67, 0.3), 0 1px 3px 1px rgba(60, 64, 67, 0.15);\n",
              "    fill: var(--button-hover-fill-color);\n",
              "  }\n",
              "\n",
              "  .colab-df-quickchart-complete:disabled,\n",
              "  .colab-df-quickchart-complete:disabled:hover {\n",
              "    background-color: var(--disabled-bg-color);\n",
              "    fill: var(--disabled-fill-color);\n",
              "    box-shadow: none;\n",
              "  }\n",
              "\n",
              "  .colab-df-spinner {\n",
              "    border: 2px solid var(--fill-color);\n",
              "    border-color: transparent;\n",
              "    border-bottom-color: var(--fill-color);\n",
              "    animation:\n",
              "      spin 1s steps(1) infinite;\n",
              "  }\n",
              "\n",
              "  @keyframes spin {\n",
              "    0% {\n",
              "      border-color: transparent;\n",
              "      border-bottom-color: var(--fill-color);\n",
              "      border-left-color: var(--fill-color);\n",
              "    }\n",
              "    20% {\n",
              "      border-color: transparent;\n",
              "      border-left-color: var(--fill-color);\n",
              "      border-top-color: var(--fill-color);\n",
              "    }\n",
              "    30% {\n",
              "      border-color: transparent;\n",
              "      border-left-color: var(--fill-color);\n",
              "      border-top-color: var(--fill-color);\n",
              "      border-right-color: var(--fill-color);\n",
              "    }\n",
              "    40% {\n",
              "      border-color: transparent;\n",
              "      border-right-color: var(--fill-color);\n",
              "      border-top-color: var(--fill-color);\n",
              "    }\n",
              "    60% {\n",
              "      border-color: transparent;\n",
              "      border-right-color: var(--fill-color);\n",
              "    }\n",
              "    80% {\n",
              "      border-color: transparent;\n",
              "      border-right-color: var(--fill-color);\n",
              "      border-bottom-color: var(--fill-color);\n",
              "    }\n",
              "    90% {\n",
              "      border-color: transparent;\n",
              "      border-bottom-color: var(--fill-color);\n",
              "    }\n",
              "  }\n",
              "</style>\n",
              "\n",
              "  <script>\n",
              "    async function quickchart(key) {\n",
              "      const quickchartButtonEl =\n",
              "        document.querySelector('#' + key + ' button');\n",
              "      quickchartButtonEl.disabled = true;  // To prevent multiple clicks.\n",
              "      quickchartButtonEl.classList.add('colab-df-spinner');\n",
              "      try {\n",
              "        const charts = await google.colab.kernel.invokeFunction(\n",
              "            'suggestCharts', [key], {});\n",
              "      } catch (error) {\n",
              "        console.error('Error during call to suggestCharts:', error);\n",
              "      }\n",
              "      quickchartButtonEl.classList.remove('colab-df-spinner');\n",
              "      quickchartButtonEl.classList.add('colab-df-quickchart-complete');\n",
              "    }\n",
              "    (() => {\n",
              "      let quickchartButtonEl =\n",
              "        document.querySelector('#df-03c3e576-082d-49b6-b55d-071112caff21 button');\n",
              "      quickchartButtonEl.style.display =\n",
              "        google.colab.kernel.accessAllowed ? 'block' : 'none';\n",
              "    })();\n",
              "  </script>\n",
              "</div>\n",
              "\n",
              "  <div id=\"id_5831890d-5d44-484c-95d2-3804da54a56e\">\n",
              "    <style>\n",
              "      .colab-df-generate {\n",
              "        background-color: #E8F0FE;\n",
              "        border: none;\n",
              "        border-radius: 50%;\n",
              "        cursor: pointer;\n",
              "        display: none;\n",
              "        fill: #1967D2;\n",
              "        height: 32px;\n",
              "        padding: 0 0 0 0;\n",
              "        width: 32px;\n",
              "      }\n",
              "\n",
              "      .colab-df-generate:hover {\n",
              "        background-color: #E2EBFA;\n",
              "        box-shadow: 0px 1px 2px rgba(60, 64, 67, 0.3), 0px 1px 3px 1px rgba(60, 64, 67, 0.15);\n",
              "        fill: #174EA6;\n",
              "      }\n",
              "\n",
              "      [theme=dark] .colab-df-generate {\n",
              "        background-color: #3B4455;\n",
              "        fill: #D2E3FC;\n",
              "      }\n",
              "\n",
              "      [theme=dark] .colab-df-generate:hover {\n",
              "        background-color: #434B5C;\n",
              "        box-shadow: 0px 1px 3px 1px rgba(0, 0, 0, 0.15);\n",
              "        filter: drop-shadow(0px 1px 2px rgba(0, 0, 0, 0.3));\n",
              "        fill: #FFFFFF;\n",
              "      }\n",
              "    </style>\n",
              "    <button class=\"colab-df-generate\" onclick=\"generateWithVariable('df')\"\n",
              "            title=\"Generate code using this dataframe.\"\n",
              "            style=\"display:none;\">\n",
              "\n",
              "  <svg xmlns=\"http://www.w3.org/2000/svg\" height=\"24px\"viewBox=\"0 0 24 24\"\n",
              "       width=\"24px\">\n",
              "    <path d=\"M7,19H8.4L18.45,9,17,7.55,7,17.6ZM5,21V16.75L18.45,3.32a2,2,0,0,1,2.83,0l1.4,1.43a1.91,1.91,0,0,1,.58,1.4,1.91,1.91,0,0,1-.58,1.4L9.25,21ZM18.45,9,17,7.55Zm-12,3A5.31,5.31,0,0,0,4.9,8.1,5.31,5.31,0,0,0,1,6.5,5.31,5.31,0,0,0,4.9,4.9,5.31,5.31,0,0,0,6.5,1,5.31,5.31,0,0,0,8.1,4.9,5.31,5.31,0,0,0,12,6.5,5.46,5.46,0,0,0,6.5,12Z\"/>\n",
              "  </svg>\n",
              "    </button>\n",
              "    <script>\n",
              "      (() => {\n",
              "      const buttonEl =\n",
              "        document.querySelector('#id_5831890d-5d44-484c-95d2-3804da54a56e button.colab-df-generate');\n",
              "      buttonEl.style.display =\n",
              "        google.colab.kernel.accessAllowed ? 'block' : 'none';\n",
              "\n",
              "      buttonEl.onclick = () => {\n",
              "        google.colab.notebook.generateWithVariable('df');\n",
              "      }\n",
              "      })();\n",
              "    </script>\n",
              "  </div>\n",
              "\n",
              "    </div>\n",
              "  </div>\n"
            ],
            "application/vnd.google.colaboratory.intrinsic+json": {
              "type": "dataframe",
              "variable_name": "df",
              "summary": "{\n  \"name\": \"df\",\n  \"rows\": 1240,\n  \"fields\": [\n    {\n      \"column\": \"Unnamed: 0\",\n      \"properties\": {\n        \"dtype\": \"number\",\n        \"std\": 358,\n        \"min\": 0,\n        \"max\": 1239,\n        \"num_unique_values\": 1240,\n        \"samples\": [\n          415,\n          259,\n          332\n        ],\n        \"semantic_type\": \"\",\n        \"description\": \"\"\n      }\n    },\n    {\n      \"column\": \"Sequence\",\n      \"properties\": {\n        \"dtype\": \"string\",\n        \"num_unique_values\": 1238,\n        \"samples\": [\n          \"AUGGCAUCCUCUGAGGACGUAAUAAAGGAGUUCAUGAGGUUCAAGGUCAGGAUGGAGGGAUCGGUCAAUGGACACGAGUUCGAAAUAGAGGGAGAGGGGGAGGGAAGACCAUACGAGGGAACUCAAACUGCUAAGCUUAAGGUAACUAAGGGAGGACCUCUACCUUUCGCCUGGGACAUACUUUCUCCACAAUUCCAAUACGGGUCUAAGGCUUACGUAAAGCACCCUGCAGACAUACCCGACUACCUGAAACUUUCUUUCCCUGAGGGAUUCAAGUGGGAGAGAGUAAUGAAUUUCGAGGACGGAGGAGUAGUAACAGUCACUCAAGACUCUUCGCUGCAAGACGGAGAGUUCAUAUACAAGGUCAAGCUAAGGGGGACAAAUUUCCCAUCAGACGGGCCCGUCAUGCAAAAGAAGACCAUGGGAUGGGAGGCUUCGACUGAGAGGAUGUACCCUGAGGACGGGGCUCUAAAGGGGGAGAUAAAGAUGAGGCUUAAGCUCAAGGACGGGGGACACUACGACGCUGAGGUAAAGACAACAUACAUGGCUAAAAAGCCCGUACAACUUCCUGGGGCUUACAAGACAGACAUAAAGCUUGACAUAACAUCUCACAAUGAGGACUACACAAUAGUAGAGCAAUACGAGAGAGCUGAGGGAAGGCACUCCACUGGAGCAUGA\",\n          \"AUGGCCUCUUCUGAGGACGUGAUCAAAGAGUUCAUGCGCUUUAAGGUUCGAAUGGAGGGCUCGGUCAACGGACAUGAGUUCGAAAUUGAGGGAGAAGGUGAGGGCCGACCAUACGAAGGAACGCAGACAGCAAAACUUAAGGUGACAAAAGGGGGACCUCUACCUUUCGCCUGGGACAUACUGUCGCCGCAAUUCCAGUACGGGUCCAAAGCAUAUGUGAAGCAUCCUGCUGACAUUCCUGAUUACCUGAAACUUUCAUUUCCGGAAGGUUUUAAAUGGGAGCGUGUCAUGAACUUUGAAGAUGGGGGAGUGGUAACGGUAACUCAAGAUUCUUCGCUGCAAGAUGGAGAAUUUAUUUACAAGGUUAAGCUUCGAGGGACCAAUUUCCCGUCUGAUGGACCGGUAAUGCAAAAGAAGACCAUGGGCUGGGAGGCUUCAACAGAGCGGAUGUAUCCGGAAGACGGUGCUCUGAAGGGUGAAAUUAAAAUGCGACUUAAACUGAAAGACGGUGGGCAUUAUGAUGCUGAGGUCAAAACGACGUAUAUGGCAAAGAAGCCGGUGCAGCUACCCGGGGCGUACAAGACAGACAUAAAGCUGGAUAUAACUUCUCACAACGAGGACUAUACAAUUGUGGAGCAGUAUGAGCGUGCAGAGGGACGCCACUCGACGGGUGCGUGA\",\n          \"AUGGCUUCGUCAGAGGACGUAAUAAAGGAGUUCAUGAGAUUCAAGGUAAGAAUGGAGGGGUCCGUAAAUGGGCACGAGUUCGAAAUAGAGGGGGAGGGAGAGGGAAGGCCCUACGAGGGGACACAAACUGCUAAGCUUAAGGUCACAAAGGGGGGGCCACUUCCUUUCGCCUGGGACAUACUAUCUCCUCAAUUCCAAUACGGGUCCAAGGCUUACGUAAAGCACCCUGCAGACAUACCUGACUACCUGAAACUCUCCUUCCCAGAGGGAUUCAAGUGGGAGAGAGUAAUGAAUUUCGAGGACGGGGGGGUAGUAACUGUAACACAAGACUCAUCACUGCAAGACGGAGAGUUCAUAUACAAGGUCAAGCUCAGGGGAACAAAUUUCCCUUCCGACGGACCUGUCAUGCAAAAGAAGACCAUGGGAUGGGAGGCUUCCACUGAGAGAAUGUACCCCGAGGACGGGGCUCUAAAGGGGGAGAUAAAGAUGAGGCUAAAGCUAAAGGACGGAGGGCACUACGACGCAGAGGUAAAGACAACAUACAUGGCAAAGAAGCCAGUCCAACUCCCAGGAGCAUACAAGACAGACAUAAAGCUCGACAUAACAUCCCACAAUGAGGACUACACUAUAGUAGAGCAAUACGAGAGAGCUGAGGGAAGACACUCUACUGGAGCUUGA\"\n        ],\n        \"semantic_type\": \"\",\n        \"description\": \"\"\n      }\n    },\n    {\n      \"column\": \"Value\",\n      \"properties\": {\n        \"dtype\": \"number\",\n        \"std\": 0.713937745328859,\n        \"min\": 7.36065603585692,\n        \"max\": 11.338710284785616,\n        \"num_unique_values\": 1240,\n        \"samples\": [\n          9.622726748906206,\n          10.153079464749773,\n          10.759990394712403\n        ],\n        \"semantic_type\": \"\",\n        \"description\": \"\"\n      }\n    }\n  ]\n}"
            }
          },
          "metadata": {},
          "execution_count": 104
        }
      ]
    },
    {
      "cell_type": "markdown",
      "source": [
        "# Train a Random Forest on the Data"
      ],
      "metadata": {
        "id": "96EUXRDHzux1"
      }
    },
    {
      "cell_type": "markdown",
      "source": [
        "You start with your task and decide to use a RandomForest model. Using the following prompt \"# prompt: Using dataframe df: train a random forest\" you ask the AI model Gemini to write your initial starting code 🙂 framework (\"see below\")....But when you run the code it doesnt work, 😞 can you see whats wrong ?"
      ],
      "metadata": {
        "id": "-bRBwbQW1yln"
      }
    },
    {
      "cell_type": "code",
      "source": [
        "# prompt: Using dataframe df: train a random forest\n",
        "import numpy as np\n",
        "from sklearn.model_selection import train_test_split\n",
        "from sklearn.ensemble import RandomForestRegressor\n",
        "from sklearn.metrics import mean_squared_error\n",
        "\n",
        "# Prepare the data\n",
        "X = df['Sequence']  # Assuming you want to use the sequence as input\n",
        "y = df['Value']\n",
        "\n",
        "# Convert sequences to numerical representations using a simple approach: sequence length\n",
        "X = [sequence for sequence in X]\n",
        "\n",
        "# Split data into training and testing sets\n",
        "X_train, X_test, y_train, y_test = train_test_split(X, y, test_size=0.2, random_state=42)\n",
        "\n",
        "# Reshape the input data to fit sklearn requirements\n",
        "X_train = [[val] for val in X_train]\n",
        "X_test = [[val] for val in X_test]\n",
        "\n",
        "\n",
        "# Train the Random Forest model\n",
        "model = RandomForestRegressor(n_estimators=100, random_state=42) # You can adjust hyperparameters\n",
        "model.fit(X_train, y_train)\n",
        "\n",
        "\n",
        "# Make predictions on the test set\n",
        "y_pred = model.predict(X_test)\n",
        "\n",
        "\n",
        "# Evaluate the model (example: Mean Squared Error)\n",
        "mse = mean_squared_error(y_test, y_pred)\n",
        "print(\"Mean Squared Error:\", mse)\n"
      ],
      "metadata": {
        "id": "MFD3YAl7aYEe"
      },
      "execution_count": null,
      "outputs": []
    },
    {
      "cell_type": "markdown",
      "source": [
        "# Solution"
      ],
      "metadata": {
        "id": "EpsTVE3riEhs"
      }
    },
    {
      "cell_type": "markdown",
      "source": [
        "You realise that Machine learning methods like random forests only accept number encoded inputs. You set about writing some code to 'One hot encode' your RNA sequence..Give this 20 to 30 minutes..If you are stuck you can look here for an answer https://github.com/jonglees/Codon-optimisation-practical/blob/main/utils.py"
      ],
      "metadata": {
        "id": "CxBFeffP2UYr"
      }
    },
    {
      "cell_type": "code",
      "source": [
        "\n",
        "def one_hot_encode(seq):\n",
        "    \"\"\"Write some code that converts RNA sequences into arrays through one hot encoding\"\"\""
      ],
      "metadata": {
        "id": "m28C202jbK7h"
      },
      "execution_count": null,
      "outputs": []
    },
    {
      "cell_type": "code",
      "source": [
        "\n",
        "print(len(one_hot_encode('ACGU')))"
      ],
      "metadata": {
        "colab": {
          "base_uri": "https://localhost:8080/"
        },
        "id": "QFzqvzQEy8ui",
        "outputId": "8210e2a1-6daa-44b8-cf50-8cce8685a9ba"
      },
      "execution_count": null,
      "outputs": [
        {
          "output_type": "stream",
          "name": "stdout",
          "text": [
            "16\n"
          ]
        }
      ]
    },
    {
      "cell_type": "markdown",
      "source": [
        "#Ready to train our model"
      ],
      "metadata": {
        "id": "GBQRFUUFys9D"
      }
    },
    {
      "cell_type": "markdown",
      "source": [
        "Your making good progress and thinking about your swimming pool after your shiney ML method get's you a promotion 😴.... back to work your ready to train your model....But when you run the following code the performance is OK.. but not quite what you had hoped for 😞....Give yourself 20-30 minutes to Optimise the model.. Further documentation can be found here:\n",
        "https://scikit-learn.org/stable/modules/generated/sklearn.ensemble.RandomForestRegressor.html"
      ],
      "metadata": {
        "id": "phwhEQhI3w08"
      }
    },
    {
      "cell_type": "code",
      "source": [
        "from sklearn.model_selection import train_test_split\n",
        "from sklearn.ensemble import RandomForestRegressor\n",
        "from sklearn.metrics import mean_squared_error\n",
        "from scipy.stats import pearsonr\n",
        "from scipy.stats import spearmanr\n",
        "\n",
        "# Prepare the data\n",
        "\n",
        "df['one_hot_encoded_seqs']=[one_hot_encode(seq) for seq in df.Sequence]\n",
        "\n",
        "X = list(df['one_hot_encoded_seqs'])  # Assuming you want to use the sequence as input\n",
        "y = list(df['Value'])\n",
        "\n",
        "\n",
        "\n",
        "# Split data into training and testing sets\n",
        "X_train, X_test, y_train, y_test = train_test_split(X, y, test_size=0.2, random_state=42)\n",
        "\n",
        "\n",
        "# Train the Random Forest model\n",
        "model = RandomForestRegressor(n_estimators=1, max_depth = 2, random_state=42) # You can adjust hyperparameters\n",
        "model.fit(X_train, y_train)\n",
        "\n",
        "\n",
        "# Make predictions on the test set\n",
        "y_pred = model.predict(X_test)\n",
        "\n",
        "\n",
        "# Evaluate the model (example: Mean Squared Error)\n",
        "mse = mean_squared_error(y_test, y_pred)\n",
        "print(\"Mean Squared Error:\", mse)\n",
        "\n",
        "# Evaluate the model (example: Pearson Correlation)\n",
        "corr = pearsonr(y_test, y_pred)\n",
        "print(\"Pearson corr:\", corr)\n",
        "\n",
        "# Evaluate the model (example: Spearmann Correlation)\n",
        "corr = spearmanr(y_test, y_pred)\n",
        "print(\"Pearson corr:\", corr)\n",
        "\n",
        "\n"
      ],
      "metadata": {
        "id": "iKaghU1IijCE"
      },
      "execution_count": null,
      "outputs": []
    },
    {
      "cell_type": "markdown",
      "source": [
        "# Final Steps"
      ],
      "metadata": {
        "id": "NlS7jMWB0yxZ"
      }
    },
    {
      "cell_type": "markdown",
      "source": [
        "Your line manager in the company comes back with some new data using the same experimental system used to generate the training data 🙂. You think this will make a good test set so you decide to test your approach on this to help better understand how generalisable your model is 🤔"
      ],
      "metadata": {
        "id": "DrYfy1i602uN"
      }
    },
    {
      "cell_type": "code",
      "source": [
        "\"\"\"First download this test dataset\"\"\"\n",
        "!wget https://raw.githubusercontent.com/jonglees/Codon-optimisation-practical/refs/heads/main/mRFP_Expression_test.csv"
      ],
      "metadata": {
        "id": "aFH034dr0zgq"
      },
      "execution_count": null,
      "outputs": []
    },
    {
      "cell_type": "code",
      "source": [
        "\"\"\"Now produce predictions on this test set and report pearson and spearmann correlations\"\"\"\n",
        "df_test = pd.read_csv('mRFP_Expression_test.csv')"
      ],
      "metadata": {
        "id": "zmGJAdSm1d4R"
      },
      "execution_count": null,
      "outputs": []
    },
    {
      "cell_type": "markdown",
      "source": [
        "The CEO is happy with your work but asks a famous ML expert who works with teh company to get their best performance on the dataset they report back with PEARSON= SPEARMAN= on this final test set...Did you do better ? If so congratulations!! 🎉 .... If not dont worry you've done a great job anyway 👏"
      ],
      "metadata": {
        "id": "864w6ZEE7uMy"
      }
    },
    {
      "cell_type": "markdown",
      "source": [
        "# One last thing..."
      ],
      "metadata": {
        "id": "SDGXoZGx6B7U"
      }
    },
    {
      "cell_type": "markdown",
      "source": [
        "You may not have beaten the famous ML expert..but dont worry they are an engineer and don't have a clue about biology. You decide to do some bioinformatics exploration of the data. You remember from your MSc its possible to look at which features in the input the random forest finds most useful: help https://scikit-learn.org/stable/auto_examples/ensemble/plot_forest_importances.html. Combinine your ML and Bio skills to explore the dataset a bit more...rsearch like this is as key to industry as it is to academia..?"
      ],
      "metadata": {
        "id": "DCTpHNZB6vGM"
      }
    },
    {
      "cell_type": "code",
      "source": [],
      "metadata": {
        "id": "fpJFQQKFWafr"
      },
      "execution_count": null,
      "outputs": []
    }
  ]
}