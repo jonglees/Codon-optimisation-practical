{
  "nbformat": 4,
  "nbformat_minor": 0,
  "metadata": {
    "colab": {
      "provenance": [],
      "toc_visible": true,
      "authorship_tag": "ABX9TyOpiJXwAHTL2lxQaeM7Tiur",
      "include_colab_link": true
    },
    "kernelspec": {
      "name": "python3",
      "display_name": "Python 3"
    },
    "language_info": {
      "name": "python"
    }
  },
  "cells": [
    {
      "cell_type": "markdown",
      "metadata": {
        "id": "view-in-github",
        "colab_type": "text"
      },
      "source": [
        "<a href=\"https://colab.research.google.com/github/jonglees/Codon-optimisation-practical/blob/main/rf_optimise.ipynb\" target=\"_parent\"><img src=\"https://colab.research.google.com/assets/colab-badge.svg\" alt=\"Open In Colab\"/></a>"
      ]
    },
    {
      "cell_type": "markdown",
      "source": [
        "The biotech company you work for has a peptide therapeutic that it selling so well they can't make enough of it. They would like to be able to make more of this peptide using a novel microbial expression system. They suspect that codons of the mRNA sequence are not optimal. The companies experimental team have tried traditional codon optimisation (replacing codons with the most frequent ones) but the protein expression levels don't change. You suggest in a meeting to your companies CEO trying machine learning. They agree and give you the experimental teams initial dataset of different synonymous sequences and protein expression values...good luck !!\n"
      ],
      "metadata": {
        "id": "uOEKYwoBz3uF"
      }
    },
    {
      "cell_type": "markdown",
      "source": [
        "# Download training data"
      ],
      "metadata": {
        "id": "n2Utrt7izif9"
      }
    },
    {
      "cell_type": "code",
      "execution_count": 2,
      "metadata": {
        "colab": {
          "base_uri": "https://localhost:8080/"
        },
        "id": "VkCe8zJnZOT3",
        "outputId": "1d5ceeeb-fc81-4c24-cc56-eb79e7b4920e"
      },
      "outputs": [
        {
          "output_type": "stream",
          "name": "stdout",
          "text": [
            "--2025-03-17 18:22:05--  https://raw.githubusercontent.com/jonglees/Codon-optimisation-practical/refs/heads/main/mRFP_Expression_train_valid.csv\n",
            "Resolving raw.githubusercontent.com (raw.githubusercontent.com)... 185.199.111.133, 185.199.108.133, 185.199.109.133, ...\n",
            "Connecting to raw.githubusercontent.com (raw.githubusercontent.com)|185.199.111.133|:443... connected.\n",
            "HTTP request sent, awaiting response... 200 OK\n",
            "Length: 869855 (849K) [text/plain]\n",
            "Saving to: ‘mRFP_Expression_train_valid.csv.1’\n",
            "\n",
            "mRFP_Expression_tra 100%[===================>] 849.47K  --.-KB/s    in 0.06s   \n",
            "\n",
            "2025-03-17 18:22:05 (14.3 MB/s) - ‘mRFP_Expression_train_valid.csv.1’ saved [869855/869855]\n",
            "\n"
          ]
        }
      ],
      "source": [
        "!wget https://raw.githubusercontent.com/jonglees/Codon-optimisation-practical/refs/heads/main/mRFP_Expression_train_valid.csv"
      ]
    },
    {
      "cell_type": "code",
      "source": [
        "\n",
        "!head mRFP_Expression_train_valid.csv"
      ],
      "metadata": {
        "colab": {
          "base_uri": "https://localhost:8080/"
        },
        "id": "RfSu-gPZZjP3",
        "outputId": "4c415af6-56ee-4caa-d40d-b8d16f60c44a"
      },
      "execution_count": 3,
      "outputs": [
        {
          "output_type": "stream",
          "name": "stdout",
          "text": [
            ",Sequence,Value\n",
            "0,AUGGCAUCAUCAGAAGACGUCAUAAAAGAAUUUAUGCGAUUCAAAGUCCGCAUGGAAGGGUCAGUAAACGGACACGAAUUCGAAAUCGAAGGAGAAGGAGAAGGCCGCCCAUACGAAGGUACCCAAACAGCCAAACUAAAAGUAACUAAAGGCGGACCACUCCCCUUCGCCUGGGACAUCCUCUCGCCCCAGUUCCAGUACGGGUCUAAAGCCUACGUCAAGCACCCCGCCGAUAUUCCGGAUUAUCUGAAACUAUCGUUUCCAGAGGGUUUUAAAUGGGAGCGGGUAAUGAAUUUUGAAGACGGAGGGGUAGUAACUGUUACUCAAGACUCAUCUCUGCAGGAUGGUGAAUUUAUCUAUAAGGUCAAACUACGAGGCACCAACUUCCCGUCGGACGGACCAGUCAUGCAAAAAAAAACCAUGGGUUGGGAGGCUUCUACCGAACGCAUGUACCCCGAGGACGGCGCGCUCAAAGGCGAGAUCAAGAUGCGUCUCAAACUCAAGGACGGAGGUCAUUAUGAUGCGGAAGUUAAGACUACUUACAUGGCAAAGAAACCAGUCCAACUACCGGGAGCAUAUAAAACUGACAUAAAGCUUGAUAUUACGUCGCAUAAUGAGGAUUACACUAUUGUGGAGCAGUAUGAGCGGGCCGAGGGCCGGCAUUCUACCGGUGCGUGA,10.164760474265888\n",
            "1,AUGGCGUCUUCAGAGGAUGUAAUCAAGGAAUUCAUGCGUUUUAAGGUGCGGAUGGAAGGUUCGGUAAACGGACAUGAGUUUGAAAUCGAAGGAGAAGGCGAGGGACGCCCGUAUGAGGGUACGCAAACGGCUAAACUUAAGGUUACUAAGGGUGGUCCGCUGCCCUUCGCCUGGGAUAUUCUAUCGCCCCAAUUUCAAUAUGGGUCAAAGGCGUACGUUAAACAUCCUGCCGAUAUACCGGACUACCUGAAACUGUCAUUUCCGGAGGGAUUCAAGUGGGAACGAGUCAUGAAUUUCGAAGACGGGGGGGUGGUUACCGUGACACAGGAUUCGUCUCUGCAGGACGGGGAGUUUAUCUAUAAGGUAAAGCUGCGAGGGACGAAUUUCCCUUCGGAUGGUCCGGUGAUGCAGAAAAAAACCAUGGGUUGGGAGGCUUCAACGGAACGGAUGUACCCGGAGGAUGGGGCACUGAAGGGAGAAAUCAAAAUGCGGCUUAAACUCAAGGACGGAGGUCAUUACGAUGCAGAAGUAAAAACCACCUAUAUGGCUAAAAAACCUGUGCAGCUACCUGGCGCGUAUAAAACUGACAUAAAACUAGACAUCACCUCUCACAAUGAGGACUAUACAAUUGUUGAGCAAUAUGAGCGUGCGGAGGGGCGACAUUCGACUGGUGCUUGA,10.572869169600745\n",
            "2,AUGGCAUCAUCGGAAGAUGUAAUAAAGGAAUUUAUGCGUUUCAAAGUGCGCAUGGAAGGGUCCGUCAAUGGGCACGAAUUUGAAAUAGAGGGGGAAGGUGAAGGGCGACCGUACGAGGGCACGCAAACCGCUAAGCUGAAAGUGACUAAAGGGGGUCCCCUGCCUUUCGCCUGGGAUAUCCUUUCCCCACAAUUUCAAUAUGGUUCGAAAGCUUAUGUUAAGCAUCCCGCGGAUAUACCCGACUAUCUGAAACUGUCGUUCCCUGAAGGUUUCAAAUGGGAGCGUGUUAUGAAUUUCGAAGACGGUGGAGUUGUCACUGUGACGCAGGAUUCAUCACUGCAGGAUGGGGAGUUCAUCUACAAGGUGAAACUGCGGGGCACGAAUUUUCCGUCGGACGGUCCUGUGAUGCAGAAGAAGACCAUGGGUUGGGAAGCGUCCACUGAACGAAUGUACCCGGAAGAUGGAGCACUAAAGGGGGAGAUCAAGAUGCGCCUUAAACUGAAGGACGGCGGGCACUACGACGCGGAAGUUAAGACGACGUAUAUGGCAAAGAAGCCAGUCCAGCUGCCGGGCGCUUACAAAACGGACAUAAAACUCGACAUCACCUCACAUAACGAGGACUAUACAAUAGUUGAGCAGUAUGAACGGGCUGAGGGGCGUCACUCUACAGGCGCGUGA,9.76691222533002\n",
            "3,AUGGCGAGUAGUGAAGACGUUAUCAAAGAAUUUAUGCGUUUUAAGGUGCGUAUGGAAGGUAGCGUCAAUGGCCAUGAAUUCGAAAUCGAAGGCGAAGGUGAAGGUCGCCCGUACGAAGGCACGCAAACGGCAAAGCUGAAAGUCACGAAAGGUGGUCCGCUGCCGUUCGCCUGGGAUAUUCUGAGUCCGCAAUUUCAGUAUGGCAGUAAGGCCUAUGUGAAGCACCCGGCGGACAUUCCGGACUACCUGAAACUGAGUUUUCCGGAAGGUUUUAAAUGGGAACGCGUUAUGAAUUUCGAAGAUGGUGGCGUGGUGACGGUUACGCAGGAUAGCAGCCUGCAAGAUGGCGAAUUUAUUUAUAAGGUGAAACUGCGUGGUACGAAUUUUCCGAGUGAUGGUCCGGUUAUGCAGAAAAAGACCAUGGGUUGGGAAGCGAGUACGGAACGUAUGUACCCGGAAGACGGCGCACUGAAGGGCGAAAUUAAGAUGCGUCUGAAGCUGAAGGACGGCGGCCAUUACGAUGCCGAAGUGAAAACGACGUAUAUGGCGAAGAAGCCGGUGCAGCUGCCGGGCGCGUAUAAAACGGACAUAAAACUGGACAUUACGAGUCAUAACGAAGAUUACACGAUUGUGGAACAGUAUGAACGUGCCGAAGGCCGCCACAGUACGGGCGCCUGA,9.926980772279864\n",
            "4,AUGGCUUCUUCUGAGGACGUAAUAAAGGAGUUCAUGAGGUUCAAGGUAAGGAUGGAGGGAUCCGUAAAUGGGCACGAGUUCGAAAUAGAGGGGGAGGGAGAGGGGAGGCCUUACGAGGGAACACAAACAGCUAAGCUAAAGGUCACUAAGGGGGGGCCCCUUCCAUUCGCCUGGGACAUACUUUCGCCUCAAUUCCAAUACGGGUCCAAGGCAUACGUAAAGCACCCAGCAGACAUACCCGACUACCUGAAACUCUCAUUCCCUGAGGGGUUCAAGUGGGAGAGGGUCAUGAAUUUCGAGGACGGGGGGGUCGUAACUGUAACUCAAGACUCUUCCCUGCAAGACGGGGAGUUCAUAUACAAGGUCAAGCUAAGAGGAACAAAUUUCCCUUCCGACGGACCCGUCAUGCAAAAGAAGACCAUGGGGUGGGAGGCAUCCACAGAGAGAAUGUACCCCGAGGACGGAGCUCUUAAGGGAGAGAUAAAGAUGAGACUUAAGCUCAAGGACGGGGGGCACUACGACGCUGAGGUAAAGACAACAUACAUGGCAAAGAAGCCCGUACAACUUCCAGGGGCAUACAAGACUGACAUAAAGCUUGACAUAACUUCUCACAAUGAGGACUACACUAUAGUCGAGCAAUACGAGAGAGCUGAGGGGAGACACUCGACUGGGGCUUGA,9.85707438016801\n",
            "5,AUGGCAUCAUCAGAGGACGUAAUAAAGGAGUUCAUGAGGUUCAAGGUCAGAAUGGAGGGGUCAGUAAAUGGACACGAGUUCGAAAUAGAGGGGGAGGGAGAGGGAAGGCCCUACGAGGGAACACAAACAGCUAAGCUUAAGGUCACUAAGGGAGGACCCCUCCCCUUCGCCUGGGACAUACUAUCUCCACAAUUCCAAUACGGGUCAAAGGCUUACGUAAAGCACCCUGCUGACAUACCUGACUACCUGAAACUCUCUUUCCCCGAGGGGUUCAAGUGGGAGAGGGUCAUGAAUUUCGAGGACGGAGGGGUCGUCACUGUCACUCAAGACUCGUCCCUGCAAGACGGGGAGUUCAUAUACAAGGUCAAGCUUAGGGGAACAAAUUUCCCAUCGGACGGACCCGUAAUGCAAAAGAAGACCAUGGGGUGGGAGGCAUCGACUGAGAGAAUGUACCCUGAGGACGGAGCACUAAAGGGGGAGAUAAAGAUGAGACUCAAGCUCAAGGACGGAGGGCACUACGACGCAGAGGUCAAGACAACUUACAUGGCUAAGAAGCCUGUACAACUACCAGGGGCAUACAAGACAGACAUAAAGCUUGACAUAACUUCACACAAUGAGGACUACACUAUAGUAGAGCAAUACGAGAGGGCUGAGGGAAGACACUCGACAGGAGCAUGA,10.34957745505237\n",
            "6,AUGGCUUCAUCUGAGGACGUAAUAAAGGAGUUCAUGAGAUUCAAGGUAAGGAUGGAGGGGUCCGUAAAUGGGCACGAGUUCGAAAUAGAGGGAGAGGGGGAGGGAAGGCCUUACGAGGGAACUCAAACUGCAAAGCUUAAGGUCACUAAGGGAGGACCUCUCCCCUUCGCCUGGGACAUACUUUCACCCCAAUUCCAAUACGGAUCUAAGGCUUACGUCAAGCACCCAGCUGACAUACCCGACUACCUGAAACUAUCGUUCCCCGAGGGAUUCAAGUGGGAGAGGGUAAUGAAUUUCGAGGACGGAGGAGUCGUCACUGUAACUCAAGACUCAUCCCUGCAAGACGGGGAGUUCAUAUACAAGGUAAAGCUAAGAGGAACAAAUUUCCCUUCAGACGGGCCCGUCAUGCAAAAGAAGACCAUGGGAUGGGAGGCAUCCACUGAGAGAAUGUACCCUGAGGACGGGGCUCUCAAGGGAGAGAUAAAGAUGAGACUAAAGCUUAAGGACGGGGGGCACUACGACGCUGAGGUCAAGACAACUUACAUGGCUAAGAAGCCCGUCCAACUACCUGGAGCUUACAAGACAGACAUAAAGCUAGACAUAACAUCGCACAAUGAGGACUACACAAUAGUCGAGCAAUACGAGAGGGCAGAGGGAAGACACUCUACAGGGGCAUGA,10.142634317334942\n",
            "7,AUGGCCUCGUCGGAGGACGUUAUCAAAGAAUUUAUGCGUUUCAAGGUUCGUAUGGAGGGAUCGGUUAAUGGUCAUGAGUUUGAAAUUGAAGGUGAAGGAGAAGGUCGCCCCUAUGAAGGAACGCAGACAGCAAAGCUCAAGGUUACUAAAGGUGGUCCACUGCCAUUCGCCUGGGACAUCCUUUCGCCACAGUUUCAGUACGGGUCGAAGGCAUACGUUAAGCAUCCAGCCGACAUUCCAGAUUAUCUGAAACUUUCGUUUCCAGAAGGUUUCAAGUGGGAGCGGGUUAUGAACUUUGAGGACGGGGGUGUUGUGACUGUGACACAAGACUCGUCUCUGCAGGAUGGUGAAUUUAUAUAUAAAGUUAAACUGCGAGGUACAAAUUUCCCUUCUGAUGGUCCUGUUAUGCAAAAGAAGACCAUGGGGUGGGAAGCAUCGACAGAGCGUAUGUAUCCUGAGGACGGUGCGCUCAAAGGCGAAAUCAAAAUGCGGCUGAAGCUUAAGGACGGAGGUCAUUAUGACGCUGAAGUGAAAACAACUUACAUGGCCAAGAAACCAGUCCAGCUUCCAGGCGCUUAUAAGACCGACAUAAAACUCGAUAUAACCUCGCACAAUGAGGAUUAUACUAUAGUCGAGCAGUAUGAGCGAGCAGAAGGGCGACAUUCUACAGGUGCGUGA,8.734497647053821\n",
            "8,AUGGCUUCAUCUGAGGACGUAAUAAAGGAGUUCAUGAGAUUCAAGGUAAGAAUGGAGGGAUCCGUAAAUGGACACGAGUUCGAAAUAGAGGGAGAGGGAGAGGGGAGGCCCUACGAGGGAACUCAAACUGCAAAGCUUAAGGUCACAAAGGGAGGGCCUCUCCCCUUCGCCUGGGACAUACUUUCGCCCCAAUUCCAAUACGGGUCGAAGGCUUACGUAAAGCACCCAGCAGACAUACCUGACUACCUGAAACUUUCGUUCCCUGAGGGAUUCAAGUGGGAGAGGGUCAUGAAUUUCGAGGACGGAGGGGUCGUCACUGUAACUCAAGACUCGUCACUGCAAGACGGGGAGUUCAUAUACAAGGUAAAGCUAAGGGGGACUAAUUUCCCCUCGGACGGGCCUGUCAUGCAAAAGAAGACCAUGGGAUGGGAGGCAUCGACUGAGAGAAUGUACCCCGAGGACGGAGCUCUAAAGGGGGAGAUAAAGAUGAGGCUCAAGCUCAAGGACGGAGGACACUACGACGCAGAGGUCAAGACAACUUACAUGGCUAAGAAGCCAGUCCAACUCCCCGGAGCUUACAAGACUGACAUAAAGCUAGACAUAACUUCUCACAAUGAGGACUACACUAUAGUAGAGCAAUACGAGAGAGCAGAGGGAAGGCACUCAACUGGGGCAUGA,10.42529327291235\n"
          ]
        }
      ]
    },
    {
      "cell_type": "code",
      "source": [
        "import pandas as pd\n",
        "df = pd.read_csv('mRFP_Expression_train_valid.csv')"
      ],
      "metadata": {
        "id": "4cGMSjQuZ61H"
      },
      "execution_count": 4,
      "outputs": []
    },
    {
      "cell_type": "code",
      "source": [
        "df"
      ],
      "metadata": {
        "colab": {
          "base_uri": "https://localhost:8080/",
          "height": 424
        },
        "id": "ALaVR6ZWaBL-",
        "outputId": "af155f59-bb42-436c-e046-3f30cb1e09f6"
      },
      "execution_count": 5,
      "outputs": [
        {
          "output_type": "execute_result",
          "data": {
            "text/plain": [
              "      Unnamed: 0                                           Sequence      Value\n",
              "0              0  AUGGCAUCAUCAGAAGACGUCAUAAAAGAAUUUAUGCGAUUCAAAG...  10.164760\n",
              "1              1  AUGGCGUCUUCAGAGGAUGUAAUCAAGGAAUUCAUGCGUUUUAAGG...  10.572869\n",
              "2              2  AUGGCAUCAUCGGAAGAUGUAAUAAAGGAAUUUAUGCGUUUCAAAG...   9.766912\n",
              "3              3  AUGGCGAGUAGUGAAGACGUUAUCAAAGAAUUUAUGCGUUUUAAGG...   9.926981\n",
              "4              4  AUGGCUUCUUCUGAGGACGUAAUAAAGGAGUUCAUGAGGUUCAAGG...   9.857074\n",
              "...          ...                                                ...        ...\n",
              "1235        1235  AUGGCGAGCAGUGAAGACGUUAUUAAGGAAUUUAUGCGCUUCAAGG...   9.785832\n",
              "1236        1236  AUGGCAUCGUCGGAAGACGUGAUAAAGGAAUUCAUGCGGUUUAAAG...   9.451459\n",
              "1237        1237  AUGGCCAGUAGUGAAGAUGUGAUUAAAGAAUUUAUGCGCUUCAAAG...  10.760540\n",
              "1238        1238  AUGGCAAGCAGCGAAGACGUGAUUAAGGAAUUCAUGCGUUUUAAGG...   9.603192\n",
              "1239        1239  AUGGCGUCAUCGGAGGAUGUUAUCAAGGAAUUCAUGCGUUUCAAGG...  10.277345\n",
              "\n",
              "[1240 rows x 3 columns]"
            ],
            "text/html": [
              "\n",
              "  <div id=\"df-bddd4344-18be-4b4b-859c-78722b8f09b2\" class=\"colab-df-container\">\n",
              "    <div>\n",
              "<style scoped>\n",
              "    .dataframe tbody tr th:only-of-type {\n",
              "        vertical-align: middle;\n",
              "    }\n",
              "\n",
              "    .dataframe tbody tr th {\n",
              "        vertical-align: top;\n",
              "    }\n",
              "\n",
              "    .dataframe thead th {\n",
              "        text-align: right;\n",
              "    }\n",
              "</style>\n",
              "<table border=\"1\" class=\"dataframe\">\n",
              "  <thead>\n",
              "    <tr style=\"text-align: right;\">\n",
              "      <th></th>\n",
              "      <th>Unnamed: 0</th>\n",
              "      <th>Sequence</th>\n",
              "      <th>Value</th>\n",
              "    </tr>\n",
              "  </thead>\n",
              "  <tbody>\n",
              "    <tr>\n",
              "      <th>0</th>\n",
              "      <td>0</td>\n",
              "      <td>AUGGCAUCAUCAGAAGACGUCAUAAAAGAAUUUAUGCGAUUCAAAG...</td>\n",
              "      <td>10.164760</td>\n",
              "    </tr>\n",
              "    <tr>\n",
              "      <th>1</th>\n",
              "      <td>1</td>\n",
              "      <td>AUGGCGUCUUCAGAGGAUGUAAUCAAGGAAUUCAUGCGUUUUAAGG...</td>\n",
              "      <td>10.572869</td>\n",
              "    </tr>\n",
              "    <tr>\n",
              "      <th>2</th>\n",
              "      <td>2</td>\n",
              "      <td>AUGGCAUCAUCGGAAGAUGUAAUAAAGGAAUUUAUGCGUUUCAAAG...</td>\n",
              "      <td>9.766912</td>\n",
              "    </tr>\n",
              "    <tr>\n",
              "      <th>3</th>\n",
              "      <td>3</td>\n",
              "      <td>AUGGCGAGUAGUGAAGACGUUAUCAAAGAAUUUAUGCGUUUUAAGG...</td>\n",
              "      <td>9.926981</td>\n",
              "    </tr>\n",
              "    <tr>\n",
              "      <th>4</th>\n",
              "      <td>4</td>\n",
              "      <td>AUGGCUUCUUCUGAGGACGUAAUAAAGGAGUUCAUGAGGUUCAAGG...</td>\n",
              "      <td>9.857074</td>\n",
              "    </tr>\n",
              "    <tr>\n",
              "      <th>...</th>\n",
              "      <td>...</td>\n",
              "      <td>...</td>\n",
              "      <td>...</td>\n",
              "    </tr>\n",
              "    <tr>\n",
              "      <th>1235</th>\n",
              "      <td>1235</td>\n",
              "      <td>AUGGCGAGCAGUGAAGACGUUAUUAAGGAAUUUAUGCGCUUCAAGG...</td>\n",
              "      <td>9.785832</td>\n",
              "    </tr>\n",
              "    <tr>\n",
              "      <th>1236</th>\n",
              "      <td>1236</td>\n",
              "      <td>AUGGCAUCGUCGGAAGACGUGAUAAAGGAAUUCAUGCGGUUUAAAG...</td>\n",
              "      <td>9.451459</td>\n",
              "    </tr>\n",
              "    <tr>\n",
              "      <th>1237</th>\n",
              "      <td>1237</td>\n",
              "      <td>AUGGCCAGUAGUGAAGAUGUGAUUAAAGAAUUUAUGCGCUUCAAAG...</td>\n",
              "      <td>10.760540</td>\n",
              "    </tr>\n",
              "    <tr>\n",
              "      <th>1238</th>\n",
              "      <td>1238</td>\n",
              "      <td>AUGGCAAGCAGCGAAGACGUGAUUAAGGAAUUCAUGCGUUUUAAGG...</td>\n",
              "      <td>9.603192</td>\n",
              "    </tr>\n",
              "    <tr>\n",
              "      <th>1239</th>\n",
              "      <td>1239</td>\n",
              "      <td>AUGGCGUCAUCGGAGGAUGUUAUCAAGGAAUUCAUGCGUUUCAAGG...</td>\n",
              "      <td>10.277345</td>\n",
              "    </tr>\n",
              "  </tbody>\n",
              "</table>\n",
              "<p>1240 rows × 3 columns</p>\n",
              "</div>\n",
              "    <div class=\"colab-df-buttons\">\n",
              "\n",
              "  <div class=\"colab-df-container\">\n",
              "    <button class=\"colab-df-convert\" onclick=\"convertToInteractive('df-bddd4344-18be-4b4b-859c-78722b8f09b2')\"\n",
              "            title=\"Convert this dataframe to an interactive table.\"\n",
              "            style=\"display:none;\">\n",
              "\n",
              "  <svg xmlns=\"http://www.w3.org/2000/svg\" height=\"24px\" viewBox=\"0 -960 960 960\">\n",
              "    <path d=\"M120-120v-720h720v720H120Zm60-500h600v-160H180v160Zm220 220h160v-160H400v160Zm0 220h160v-160H400v160ZM180-400h160v-160H180v160Zm440 0h160v-160H620v160ZM180-180h160v-160H180v160Zm440 0h160v-160H620v160Z\"/>\n",
              "  </svg>\n",
              "    </button>\n",
              "\n",
              "  <style>\n",
              "    .colab-df-container {\n",
              "      display:flex;\n",
              "      gap: 12px;\n",
              "    }\n",
              "\n",
              "    .colab-df-convert {\n",
              "      background-color: #E8F0FE;\n",
              "      border: none;\n",
              "      border-radius: 50%;\n",
              "      cursor: pointer;\n",
              "      display: none;\n",
              "      fill: #1967D2;\n",
              "      height: 32px;\n",
              "      padding: 0 0 0 0;\n",
              "      width: 32px;\n",
              "    }\n",
              "\n",
              "    .colab-df-convert:hover {\n",
              "      background-color: #E2EBFA;\n",
              "      box-shadow: 0px 1px 2px rgba(60, 64, 67, 0.3), 0px 1px 3px 1px rgba(60, 64, 67, 0.15);\n",
              "      fill: #174EA6;\n",
              "    }\n",
              "\n",
              "    .colab-df-buttons div {\n",
              "      margin-bottom: 4px;\n",
              "    }\n",
              "\n",
              "    [theme=dark] .colab-df-convert {\n",
              "      background-color: #3B4455;\n",
              "      fill: #D2E3FC;\n",
              "    }\n",
              "\n",
              "    [theme=dark] .colab-df-convert:hover {\n",
              "      background-color: #434B5C;\n",
              "      box-shadow: 0px 1px 3px 1px rgba(0, 0, 0, 0.15);\n",
              "      filter: drop-shadow(0px 1px 2px rgba(0, 0, 0, 0.3));\n",
              "      fill: #FFFFFF;\n",
              "    }\n",
              "  </style>\n",
              "\n",
              "    <script>\n",
              "      const buttonEl =\n",
              "        document.querySelector('#df-bddd4344-18be-4b4b-859c-78722b8f09b2 button.colab-df-convert');\n",
              "      buttonEl.style.display =\n",
              "        google.colab.kernel.accessAllowed ? 'block' : 'none';\n",
              "\n",
              "      async function convertToInteractive(key) {\n",
              "        const element = document.querySelector('#df-bddd4344-18be-4b4b-859c-78722b8f09b2');\n",
              "        const dataTable =\n",
              "          await google.colab.kernel.invokeFunction('convertToInteractive',\n",
              "                                                    [key], {});\n",
              "        if (!dataTable) return;\n",
              "\n",
              "        const docLinkHtml = 'Like what you see? Visit the ' +\n",
              "          '<a target=\"_blank\" href=https://colab.research.google.com/notebooks/data_table.ipynb>data table notebook</a>'\n",
              "          + ' to learn more about interactive tables.';\n",
              "        element.innerHTML = '';\n",
              "        dataTable['output_type'] = 'display_data';\n",
              "        await google.colab.output.renderOutput(dataTable, element);\n",
              "        const docLink = document.createElement('div');\n",
              "        docLink.innerHTML = docLinkHtml;\n",
              "        element.appendChild(docLink);\n",
              "      }\n",
              "    </script>\n",
              "  </div>\n",
              "\n",
              "\n",
              "<div id=\"df-41f3cb40-465a-4551-a3ac-326982682a16\">\n",
              "  <button class=\"colab-df-quickchart\" onclick=\"quickchart('df-41f3cb40-465a-4551-a3ac-326982682a16')\"\n",
              "            title=\"Suggest charts\"\n",
              "            style=\"display:none;\">\n",
              "\n",
              "<svg xmlns=\"http://www.w3.org/2000/svg\" height=\"24px\"viewBox=\"0 0 24 24\"\n",
              "     width=\"24px\">\n",
              "    <g>\n",
              "        <path d=\"M19 3H5c-1.1 0-2 .9-2 2v14c0 1.1.9 2 2 2h14c1.1 0 2-.9 2-2V5c0-1.1-.9-2-2-2zM9 17H7v-7h2v7zm4 0h-2V7h2v10zm4 0h-2v-4h2v4z\"/>\n",
              "    </g>\n",
              "</svg>\n",
              "  </button>\n",
              "\n",
              "<style>\n",
              "  .colab-df-quickchart {\n",
              "      --bg-color: #E8F0FE;\n",
              "      --fill-color: #1967D2;\n",
              "      --hover-bg-color: #E2EBFA;\n",
              "      --hover-fill-color: #174EA6;\n",
              "      --disabled-fill-color: #AAA;\n",
              "      --disabled-bg-color: #DDD;\n",
              "  }\n",
              "\n",
              "  [theme=dark] .colab-df-quickchart {\n",
              "      --bg-color: #3B4455;\n",
              "      --fill-color: #D2E3FC;\n",
              "      --hover-bg-color: #434B5C;\n",
              "      --hover-fill-color: #FFFFFF;\n",
              "      --disabled-bg-color: #3B4455;\n",
              "      --disabled-fill-color: #666;\n",
              "  }\n",
              "\n",
              "  .colab-df-quickchart {\n",
              "    background-color: var(--bg-color);\n",
              "    border: none;\n",
              "    border-radius: 50%;\n",
              "    cursor: pointer;\n",
              "    display: none;\n",
              "    fill: var(--fill-color);\n",
              "    height: 32px;\n",
              "    padding: 0;\n",
              "    width: 32px;\n",
              "  }\n",
              "\n",
              "  .colab-df-quickchart:hover {\n",
              "    background-color: var(--hover-bg-color);\n",
              "    box-shadow: 0 1px 2px rgba(60, 64, 67, 0.3), 0 1px 3px 1px rgba(60, 64, 67, 0.15);\n",
              "    fill: var(--button-hover-fill-color);\n",
              "  }\n",
              "\n",
              "  .colab-df-quickchart-complete:disabled,\n",
              "  .colab-df-quickchart-complete:disabled:hover {\n",
              "    background-color: var(--disabled-bg-color);\n",
              "    fill: var(--disabled-fill-color);\n",
              "    box-shadow: none;\n",
              "  }\n",
              "\n",
              "  .colab-df-spinner {\n",
              "    border: 2px solid var(--fill-color);\n",
              "    border-color: transparent;\n",
              "    border-bottom-color: var(--fill-color);\n",
              "    animation:\n",
              "      spin 1s steps(1) infinite;\n",
              "  }\n",
              "\n",
              "  @keyframes spin {\n",
              "    0% {\n",
              "      border-color: transparent;\n",
              "      border-bottom-color: var(--fill-color);\n",
              "      border-left-color: var(--fill-color);\n",
              "    }\n",
              "    20% {\n",
              "      border-color: transparent;\n",
              "      border-left-color: var(--fill-color);\n",
              "      border-top-color: var(--fill-color);\n",
              "    }\n",
              "    30% {\n",
              "      border-color: transparent;\n",
              "      border-left-color: var(--fill-color);\n",
              "      border-top-color: var(--fill-color);\n",
              "      border-right-color: var(--fill-color);\n",
              "    }\n",
              "    40% {\n",
              "      border-color: transparent;\n",
              "      border-right-color: var(--fill-color);\n",
              "      border-top-color: var(--fill-color);\n",
              "    }\n",
              "    60% {\n",
              "      border-color: transparent;\n",
              "      border-right-color: var(--fill-color);\n",
              "    }\n",
              "    80% {\n",
              "      border-color: transparent;\n",
              "      border-right-color: var(--fill-color);\n",
              "      border-bottom-color: var(--fill-color);\n",
              "    }\n",
              "    90% {\n",
              "      border-color: transparent;\n",
              "      border-bottom-color: var(--fill-color);\n",
              "    }\n",
              "  }\n",
              "</style>\n",
              "\n",
              "  <script>\n",
              "    async function quickchart(key) {\n",
              "      const quickchartButtonEl =\n",
              "        document.querySelector('#' + key + ' button');\n",
              "      quickchartButtonEl.disabled = true;  // To prevent multiple clicks.\n",
              "      quickchartButtonEl.classList.add('colab-df-spinner');\n",
              "      try {\n",
              "        const charts = await google.colab.kernel.invokeFunction(\n",
              "            'suggestCharts', [key], {});\n",
              "      } catch (error) {\n",
              "        console.error('Error during call to suggestCharts:', error);\n",
              "      }\n",
              "      quickchartButtonEl.classList.remove('colab-df-spinner');\n",
              "      quickchartButtonEl.classList.add('colab-df-quickchart-complete');\n",
              "    }\n",
              "    (() => {\n",
              "      let quickchartButtonEl =\n",
              "        document.querySelector('#df-41f3cb40-465a-4551-a3ac-326982682a16 button');\n",
              "      quickchartButtonEl.style.display =\n",
              "        google.colab.kernel.accessAllowed ? 'block' : 'none';\n",
              "    })();\n",
              "  </script>\n",
              "</div>\n",
              "\n",
              "  <div id=\"id_568082e2-3c8f-4d00-85af-5c716098df5f\">\n",
              "    <style>\n",
              "      .colab-df-generate {\n",
              "        background-color: #E8F0FE;\n",
              "        border: none;\n",
              "        border-radius: 50%;\n",
              "        cursor: pointer;\n",
              "        display: none;\n",
              "        fill: #1967D2;\n",
              "        height: 32px;\n",
              "        padding: 0 0 0 0;\n",
              "        width: 32px;\n",
              "      }\n",
              "\n",
              "      .colab-df-generate:hover {\n",
              "        background-color: #E2EBFA;\n",
              "        box-shadow: 0px 1px 2px rgba(60, 64, 67, 0.3), 0px 1px 3px 1px rgba(60, 64, 67, 0.15);\n",
              "        fill: #174EA6;\n",
              "      }\n",
              "\n",
              "      [theme=dark] .colab-df-generate {\n",
              "        background-color: #3B4455;\n",
              "        fill: #D2E3FC;\n",
              "      }\n",
              "\n",
              "      [theme=dark] .colab-df-generate:hover {\n",
              "        background-color: #434B5C;\n",
              "        box-shadow: 0px 1px 3px 1px rgba(0, 0, 0, 0.15);\n",
              "        filter: drop-shadow(0px 1px 2px rgba(0, 0, 0, 0.3));\n",
              "        fill: #FFFFFF;\n",
              "      }\n",
              "    </style>\n",
              "    <button class=\"colab-df-generate\" onclick=\"generateWithVariable('df')\"\n",
              "            title=\"Generate code using this dataframe.\"\n",
              "            style=\"display:none;\">\n",
              "\n",
              "  <svg xmlns=\"http://www.w3.org/2000/svg\" height=\"24px\"viewBox=\"0 0 24 24\"\n",
              "       width=\"24px\">\n",
              "    <path d=\"M7,19H8.4L18.45,9,17,7.55,7,17.6ZM5,21V16.75L18.45,3.32a2,2,0,0,1,2.83,0l1.4,1.43a1.91,1.91,0,0,1,.58,1.4,1.91,1.91,0,0,1-.58,1.4L9.25,21ZM18.45,9,17,7.55Zm-12,3A5.31,5.31,0,0,0,4.9,8.1,5.31,5.31,0,0,0,1,6.5,5.31,5.31,0,0,0,4.9,4.9,5.31,5.31,0,0,0,6.5,1,5.31,5.31,0,0,0,8.1,4.9,5.31,5.31,0,0,0,12,6.5,5.46,5.46,0,0,0,6.5,12Z\"/>\n",
              "  </svg>\n",
              "    </button>\n",
              "    <script>\n",
              "      (() => {\n",
              "      const buttonEl =\n",
              "        document.querySelector('#id_568082e2-3c8f-4d00-85af-5c716098df5f button.colab-df-generate');\n",
              "      buttonEl.style.display =\n",
              "        google.colab.kernel.accessAllowed ? 'block' : 'none';\n",
              "\n",
              "      buttonEl.onclick = () => {\n",
              "        google.colab.notebook.generateWithVariable('df');\n",
              "      }\n",
              "      })();\n",
              "    </script>\n",
              "  </div>\n",
              "\n",
              "    </div>\n",
              "  </div>\n"
            ],
            "application/vnd.google.colaboratory.intrinsic+json": {
              "type": "dataframe",
              "variable_name": "df",
              "summary": "{\n  \"name\": \"df\",\n  \"rows\": 1240,\n  \"fields\": [\n    {\n      \"column\": \"Unnamed: 0\",\n      \"properties\": {\n        \"dtype\": \"number\",\n        \"std\": 358,\n        \"min\": 0,\n        \"max\": 1239,\n        \"num_unique_values\": 1240,\n        \"samples\": [\n          415,\n          259,\n          332\n        ],\n        \"semantic_type\": \"\",\n        \"description\": \"\"\n      }\n    },\n    {\n      \"column\": \"Sequence\",\n      \"properties\": {\n        \"dtype\": \"string\",\n        \"num_unique_values\": 1238,\n        \"samples\": [\n          \"AUGGCAUCCUCUGAGGACGUAAUAAAGGAGUUCAUGAGGUUCAAGGUCAGGAUGGAGGGAUCGGUCAAUGGACACGAGUUCGAAAUAGAGGGAGAGGGGGAGGGAAGACCAUACGAGGGAACUCAAACUGCUAAGCUUAAGGUAACUAAGGGAGGACCUCUACCUUUCGCCUGGGACAUACUUUCUCCACAAUUCCAAUACGGGUCUAAGGCUUACGUAAAGCACCCUGCAGACAUACCCGACUACCUGAAACUUUCUUUCCCUGAGGGAUUCAAGUGGGAGAGAGUAAUGAAUUUCGAGGACGGAGGAGUAGUAACAGUCACUCAAGACUCUUCGCUGCAAGACGGAGAGUUCAUAUACAAGGUCAAGCUAAGGGGGACAAAUUUCCCAUCAGACGGGCCCGUCAUGCAAAAGAAGACCAUGGGAUGGGAGGCUUCGACUGAGAGGAUGUACCCUGAGGACGGGGCUCUAAAGGGGGAGAUAAAGAUGAGGCUUAAGCUCAAGGACGGGGGACACUACGACGCUGAGGUAAAGACAACAUACAUGGCUAAAAAGCCCGUACAACUUCCUGGGGCUUACAAGACAGACAUAAAGCUUGACAUAACAUCUCACAAUGAGGACUACACAAUAGUAGAGCAAUACGAGAGAGCUGAGGGAAGGCACUCCACUGGAGCAUGA\",\n          \"AUGGCCUCUUCUGAGGACGUGAUCAAAGAGUUCAUGCGCUUUAAGGUUCGAAUGGAGGGCUCGGUCAACGGACAUGAGUUCGAAAUUGAGGGAGAAGGUGAGGGCCGACCAUACGAAGGAACGCAGACAGCAAAACUUAAGGUGACAAAAGGGGGACCUCUACCUUUCGCCUGGGACAUACUGUCGCCGCAAUUCCAGUACGGGUCCAAAGCAUAUGUGAAGCAUCCUGCUGACAUUCCUGAUUACCUGAAACUUUCAUUUCCGGAAGGUUUUAAAUGGGAGCGUGUCAUGAACUUUGAAGAUGGGGGAGUGGUAACGGUAACUCAAGAUUCUUCGCUGCAAGAUGGAGAAUUUAUUUACAAGGUUAAGCUUCGAGGGACCAAUUUCCCGUCUGAUGGACCGGUAAUGCAAAAGAAGACCAUGGGCUGGGAGGCUUCAACAGAGCGGAUGUAUCCGGAAGACGGUGCUCUGAAGGGUGAAAUUAAAAUGCGACUUAAACUGAAAGACGGUGGGCAUUAUGAUGCUGAGGUCAAAACGACGUAUAUGGCAAAGAAGCCGGUGCAGCUACCCGGGGCGUACAAGACAGACAUAAAGCUGGAUAUAACUUCUCACAACGAGGACUAUACAAUUGUGGAGCAGUAUGAGCGUGCAGAGGGACGCCACUCGACGGGUGCGUGA\",\n          \"AUGGCUUCGUCAGAGGACGUAAUAAAGGAGUUCAUGAGAUUCAAGGUAAGAAUGGAGGGGUCCGUAAAUGGGCACGAGUUCGAAAUAGAGGGGGAGGGAGAGGGAAGGCCCUACGAGGGGACACAAACUGCUAAGCUUAAGGUCACAAAGGGGGGGCCACUUCCUUUCGCCUGGGACAUACUAUCUCCUCAAUUCCAAUACGGGUCCAAGGCUUACGUAAAGCACCCUGCAGACAUACCUGACUACCUGAAACUCUCCUUCCCAGAGGGAUUCAAGUGGGAGAGAGUAAUGAAUUUCGAGGACGGGGGGGUAGUAACUGUAACACAAGACUCAUCACUGCAAGACGGAGAGUUCAUAUACAAGGUCAAGCUCAGGGGAACAAAUUUCCCUUCCGACGGACCUGUCAUGCAAAAGAAGACCAUGGGAUGGGAGGCUUCCACUGAGAGAAUGUACCCCGAGGACGGGGCUCUAAAGGGGGAGAUAAAGAUGAGGCUAAAGCUAAAGGACGGAGGGCACUACGACGCAGAGGUAAAGACAACAUACAUGGCAAAGAAGCCAGUCCAACUCCCAGGAGCAUACAAGACAGACAUAAAGCUCGACAUAACAUCCCACAAUGAGGACUACACUAUAGUAGAGCAAUACGAGAGAGCUGAGGGAAGACACUCUACUGGAGCUUGA\"\n        ],\n        \"semantic_type\": \"\",\n        \"description\": \"\"\n      }\n    },\n    {\n      \"column\": \"Value\",\n      \"properties\": {\n        \"dtype\": \"number\",\n        \"std\": 0.713937745328859,\n        \"min\": 7.36065603585692,\n        \"max\": 11.338710284785616,\n        \"num_unique_values\": 1240,\n        \"samples\": [\n          9.622726748906206,\n          10.153079464749773,\n          10.759990394712403\n        ],\n        \"semantic_type\": \"\",\n        \"description\": \"\"\n      }\n    }\n  ]\n}"
            }
          },
          "metadata": {},
          "execution_count": 5
        }
      ]
    },
    {
      "cell_type": "markdown",
      "source": [
        "# Train a Random Forest on the Data"
      ],
      "metadata": {
        "id": "96EUXRDHzux1"
      }
    },
    {
      "cell_type": "markdown",
      "source": [
        "You start with your task and decide to use a RandomForest model. Using the following prompt \"# prompt: Using dataframe df: train a random forest\" you ask the AI model Gemini to write your initial starting code 🙂 framework (\"see below\")....But when you run the code it doesnt work, 😞 can you see whats wrong ?"
      ],
      "metadata": {
        "id": "-bRBwbQW1yln"
      }
    },
    {
      "cell_type": "code",
      "source": [
        "# prompt: Using dataframe df: train a random forest\n",
        "import numpy as np\n",
        "from sklearn.model_selection import train_test_split\n",
        "from sklearn.ensemble import RandomForestRegressor\n",
        "from sklearn.metrics import mean_squared_error\n",
        "\n",
        "# Prepare the data\n",
        "X = df['Sequence']  # Assuming you want to use the sequence as input\n",
        "y = df['Value']\n",
        "\n",
        "# Convert sequences to numerical representations using a simple approach: sequence length\n",
        "X = [sequence for sequence in X]\n",
        "\n",
        "# Split data into training and testing sets\n",
        "X_train, X_test, y_train, y_test = train_test_split(X, y, test_size=0.2, random_state=42)\n",
        "\n",
        "# Reshape the input data to fit sklearn requirements\n",
        "X_train = [[val] for val in X_train]\n",
        "X_test = [[val] for val in X_test]\n",
        "\n",
        "\n",
        "# Train the Random Forest model\n",
        "model = RandomForestRegressor(n_estimators=100, random_state=42) # You can adjust hyperparameters\n",
        "model.fit(X_train, y_train)\n",
        "\n",
        "\n",
        "# Make predictions on the test set\n",
        "y_pred = model.predict(X_test)\n",
        "\n",
        "\n",
        "# Evaluate the model (example: Mean Squared Error)\n",
        "mse = mean_squared_error(y_test, y_pred)\n",
        "print(\"Mean Squared Error:\", mse)\n"
      ],
      "metadata": {
        "id": "MFD3YAl7aYEe",
        "outputId": "f5876fdf-4e23-4e91-c430-0e976f9312fb",
        "colab": {
          "base_uri": "https://localhost:8080/",
          "height": 393
        }
      },
      "execution_count": 6,
      "outputs": [
        {
          "output_type": "error",
          "ename": "ValueError",
          "evalue": "could not convert string to float: 'AUGGCUUCAUCGGAAGAUGUAAUCAAAGAGUUUAUGCGAUUUAAGGUCCGCAUGGAGGGAUCUGUCAACGGGCACGAAUUUGAAAUUGAAGGAGAAGGGGAGGGGCGCCCAUAUGAGGGCACUCAAACCGCUAAACUCAAGGUAACGAAGGGCGGACCUCUUCCUUUCGCCUGGGACAUUCUCUCACCUCAAUUCCAAUAUGGCUCCAAGGCGUAUGUUAAACACCCGGCCGACAUACCGGAUUACCUGAAACUUUCAUUUCCGGAAGGAUUUAAAUGGGAACGUGUGAUGAACUUUGAAGAUGGUGGUGUUGUUACCGUAACCCAAGAUUCAUCGCUGCAGGAUGGGGAAUUUAUAUAUAAGGUAAAACUCCGAGGUACAAAUUUCCCAUCCGAUGGACCGGUCAUGCAAAAAAAGACCAUGGGAUGGGAAGCUUCAACAGAGCGGAUGUAUCCGGAGGAUGGCGCACUGAAGGGCGAAAUAAAAAUGCGUCUUAAGCUAAAGGACGGGGGACAUUACGAUGCCGAGGUAAAAACGACUUAUAUGGCGAAGAAACCGGUCCAGCUGCCAGGGGCGUACAAAACGGACAUAAAACUGGACAUCACGUCUCAUAAUGAGGACUAUACGAUAGUAGAGCAGUAUGAGCGGGCUGAGGGUCGGCACUCUACCGGGGCAUGA'",
          "traceback": [
            "\u001b[0;31m---------------------------------------------------------------------------\u001b[0m",
            "\u001b[0;31mValueError\u001b[0m                                Traceback (most recent call last)",
            "\u001b[0;32m<ipython-input-6-fa7d5510aaed>\u001b[0m in \u001b[0;36m<cell line: 0>\u001b[0;34m()\u001b[0m\n\u001b[1;32m     22\u001b[0m \u001b[0;31m# Train the Random Forest model\u001b[0m\u001b[0;34m\u001b[0m\u001b[0;34m\u001b[0m\u001b[0m\n\u001b[1;32m     23\u001b[0m \u001b[0mmodel\u001b[0m \u001b[0;34m=\u001b[0m \u001b[0mRandomForestRegressor\u001b[0m\u001b[0;34m(\u001b[0m\u001b[0mn_estimators\u001b[0m\u001b[0;34m=\u001b[0m\u001b[0;36m100\u001b[0m\u001b[0;34m,\u001b[0m \u001b[0mrandom_state\u001b[0m\u001b[0;34m=\u001b[0m\u001b[0;36m42\u001b[0m\u001b[0;34m)\u001b[0m \u001b[0;31m# You can adjust hyperparameters\u001b[0m\u001b[0;34m\u001b[0m\u001b[0;34m\u001b[0m\u001b[0m\n\u001b[0;32m---> 24\u001b[0;31m \u001b[0mmodel\u001b[0m\u001b[0;34m.\u001b[0m\u001b[0mfit\u001b[0m\u001b[0;34m(\u001b[0m\u001b[0mX_train\u001b[0m\u001b[0;34m,\u001b[0m \u001b[0my_train\u001b[0m\u001b[0;34m)\u001b[0m\u001b[0;34m\u001b[0m\u001b[0;34m\u001b[0m\u001b[0m\n\u001b[0m\u001b[1;32m     25\u001b[0m \u001b[0;34m\u001b[0m\u001b[0m\n\u001b[1;32m     26\u001b[0m \u001b[0;34m\u001b[0m\u001b[0m\n",
            "\u001b[0;32m/usr/local/lib/python3.11/dist-packages/sklearn/base.py\u001b[0m in \u001b[0;36mwrapper\u001b[0;34m(estimator, *args, **kwargs)\u001b[0m\n\u001b[1;32m   1387\u001b[0m                 )\n\u001b[1;32m   1388\u001b[0m             ):\n\u001b[0;32m-> 1389\u001b[0;31m                 \u001b[0;32mreturn\u001b[0m \u001b[0mfit_method\u001b[0m\u001b[0;34m(\u001b[0m\u001b[0mestimator\u001b[0m\u001b[0;34m,\u001b[0m \u001b[0;34m*\u001b[0m\u001b[0margs\u001b[0m\u001b[0;34m,\u001b[0m \u001b[0;34m**\u001b[0m\u001b[0mkwargs\u001b[0m\u001b[0;34m)\u001b[0m\u001b[0;34m\u001b[0m\u001b[0;34m\u001b[0m\u001b[0m\n\u001b[0m\u001b[1;32m   1390\u001b[0m \u001b[0;34m\u001b[0m\u001b[0m\n\u001b[1;32m   1391\u001b[0m         \u001b[0;32mreturn\u001b[0m \u001b[0mwrapper\u001b[0m\u001b[0;34m\u001b[0m\u001b[0;34m\u001b[0m\u001b[0m\n",
            "\u001b[0;32m/usr/local/lib/python3.11/dist-packages/sklearn/ensemble/_forest.py\u001b[0m in \u001b[0;36mfit\u001b[0;34m(self, X, y, sample_weight)\u001b[0m\n\u001b[1;32m    358\u001b[0m             \u001b[0;32mraise\u001b[0m \u001b[0mValueError\u001b[0m\u001b[0;34m(\u001b[0m\u001b[0;34m\"sparse multilabel-indicator for y is not supported.\"\u001b[0m\u001b[0;34m)\u001b[0m\u001b[0;34m\u001b[0m\u001b[0;34m\u001b[0m\u001b[0m\n\u001b[1;32m    359\u001b[0m \u001b[0;34m\u001b[0m\u001b[0m\n\u001b[0;32m--> 360\u001b[0;31m         X, y = validate_data(\n\u001b[0m\u001b[1;32m    361\u001b[0m             \u001b[0mself\u001b[0m\u001b[0;34m,\u001b[0m\u001b[0;34m\u001b[0m\u001b[0;34m\u001b[0m\u001b[0m\n\u001b[1;32m    362\u001b[0m             \u001b[0mX\u001b[0m\u001b[0;34m,\u001b[0m\u001b[0;34m\u001b[0m\u001b[0;34m\u001b[0m\u001b[0m\n",
            "\u001b[0;32m/usr/local/lib/python3.11/dist-packages/sklearn/utils/validation.py\u001b[0m in \u001b[0;36mvalidate_data\u001b[0;34m(_estimator, X, y, reset, validate_separately, skip_check_array, **check_params)\u001b[0m\n\u001b[1;32m   2959\u001b[0m             \u001b[0my\u001b[0m \u001b[0;34m=\u001b[0m \u001b[0mcheck_array\u001b[0m\u001b[0;34m(\u001b[0m\u001b[0my\u001b[0m\u001b[0;34m,\u001b[0m \u001b[0minput_name\u001b[0m\u001b[0;34m=\u001b[0m\u001b[0;34m\"y\"\u001b[0m\u001b[0;34m,\u001b[0m \u001b[0;34m**\u001b[0m\u001b[0mcheck_y_params\u001b[0m\u001b[0;34m)\u001b[0m\u001b[0;34m\u001b[0m\u001b[0;34m\u001b[0m\u001b[0m\n\u001b[1;32m   2960\u001b[0m         \u001b[0;32melse\u001b[0m\u001b[0;34m:\u001b[0m\u001b[0;34m\u001b[0m\u001b[0;34m\u001b[0m\u001b[0m\n\u001b[0;32m-> 2961\u001b[0;31m             \u001b[0mX\u001b[0m\u001b[0;34m,\u001b[0m \u001b[0my\u001b[0m \u001b[0;34m=\u001b[0m \u001b[0mcheck_X_y\u001b[0m\u001b[0;34m(\u001b[0m\u001b[0mX\u001b[0m\u001b[0;34m,\u001b[0m \u001b[0my\u001b[0m\u001b[0;34m,\u001b[0m \u001b[0;34m**\u001b[0m\u001b[0mcheck_params\u001b[0m\u001b[0;34m)\u001b[0m\u001b[0;34m\u001b[0m\u001b[0;34m\u001b[0m\u001b[0m\n\u001b[0m\u001b[1;32m   2962\u001b[0m         \u001b[0mout\u001b[0m \u001b[0;34m=\u001b[0m \u001b[0mX\u001b[0m\u001b[0;34m,\u001b[0m \u001b[0my\u001b[0m\u001b[0;34m\u001b[0m\u001b[0;34m\u001b[0m\u001b[0m\n\u001b[1;32m   2963\u001b[0m \u001b[0;34m\u001b[0m\u001b[0m\n",
            "\u001b[0;32m/usr/local/lib/python3.11/dist-packages/sklearn/utils/validation.py\u001b[0m in \u001b[0;36mcheck_X_y\u001b[0;34m(X, y, accept_sparse, accept_large_sparse, dtype, order, copy, force_writeable, force_all_finite, ensure_all_finite, ensure_2d, allow_nd, multi_output, ensure_min_samples, ensure_min_features, y_numeric, estimator)\u001b[0m\n\u001b[1;32m   1368\u001b[0m     \u001b[0mensure_all_finite\u001b[0m \u001b[0;34m=\u001b[0m \u001b[0m_deprecate_force_all_finite\u001b[0m\u001b[0;34m(\u001b[0m\u001b[0mforce_all_finite\u001b[0m\u001b[0;34m,\u001b[0m \u001b[0mensure_all_finite\u001b[0m\u001b[0;34m)\u001b[0m\u001b[0;34m\u001b[0m\u001b[0;34m\u001b[0m\u001b[0m\n\u001b[1;32m   1369\u001b[0m \u001b[0;34m\u001b[0m\u001b[0m\n\u001b[0;32m-> 1370\u001b[0;31m     X = check_array(\n\u001b[0m\u001b[1;32m   1371\u001b[0m         \u001b[0mX\u001b[0m\u001b[0;34m,\u001b[0m\u001b[0;34m\u001b[0m\u001b[0;34m\u001b[0m\u001b[0m\n\u001b[1;32m   1372\u001b[0m         \u001b[0maccept_sparse\u001b[0m\u001b[0;34m=\u001b[0m\u001b[0maccept_sparse\u001b[0m\u001b[0;34m,\u001b[0m\u001b[0;34m\u001b[0m\u001b[0;34m\u001b[0m\u001b[0m\n",
            "\u001b[0;32m/usr/local/lib/python3.11/dist-packages/sklearn/utils/validation.py\u001b[0m in \u001b[0;36mcheck_array\u001b[0;34m(array, accept_sparse, accept_large_sparse, dtype, order, copy, force_writeable, force_all_finite, ensure_all_finite, ensure_non_negative, ensure_2d, allow_nd, ensure_min_samples, ensure_min_features, estimator, input_name)\u001b[0m\n\u001b[1;32m   1053\u001b[0m                     \u001b[0marray\u001b[0m \u001b[0;34m=\u001b[0m \u001b[0mxp\u001b[0m\u001b[0;34m.\u001b[0m\u001b[0mastype\u001b[0m\u001b[0;34m(\u001b[0m\u001b[0marray\u001b[0m\u001b[0;34m,\u001b[0m \u001b[0mdtype\u001b[0m\u001b[0;34m,\u001b[0m \u001b[0mcopy\u001b[0m\u001b[0;34m=\u001b[0m\u001b[0;32mFalse\u001b[0m\u001b[0;34m)\u001b[0m\u001b[0;34m\u001b[0m\u001b[0;34m\u001b[0m\u001b[0m\n\u001b[1;32m   1054\u001b[0m                 \u001b[0;32melse\u001b[0m\u001b[0;34m:\u001b[0m\u001b[0;34m\u001b[0m\u001b[0;34m\u001b[0m\u001b[0m\n\u001b[0;32m-> 1055\u001b[0;31m                     \u001b[0marray\u001b[0m \u001b[0;34m=\u001b[0m \u001b[0m_asarray_with_order\u001b[0m\u001b[0;34m(\u001b[0m\u001b[0marray\u001b[0m\u001b[0;34m,\u001b[0m \u001b[0morder\u001b[0m\u001b[0;34m=\u001b[0m\u001b[0morder\u001b[0m\u001b[0;34m,\u001b[0m \u001b[0mdtype\u001b[0m\u001b[0;34m=\u001b[0m\u001b[0mdtype\u001b[0m\u001b[0;34m,\u001b[0m \u001b[0mxp\u001b[0m\u001b[0;34m=\u001b[0m\u001b[0mxp\u001b[0m\u001b[0;34m)\u001b[0m\u001b[0;34m\u001b[0m\u001b[0;34m\u001b[0m\u001b[0m\n\u001b[0m\u001b[1;32m   1056\u001b[0m             \u001b[0;32mexcept\u001b[0m \u001b[0mComplexWarning\u001b[0m \u001b[0;32mas\u001b[0m \u001b[0mcomplex_warning\u001b[0m\u001b[0;34m:\u001b[0m\u001b[0;34m\u001b[0m\u001b[0;34m\u001b[0m\u001b[0m\n\u001b[1;32m   1057\u001b[0m                 raise ValueError(\n",
            "\u001b[0;32m/usr/local/lib/python3.11/dist-packages/sklearn/utils/_array_api.py\u001b[0m in \u001b[0;36m_asarray_with_order\u001b[0;34m(array, dtype, order, copy, xp, device)\u001b[0m\n\u001b[1;32m    837\u001b[0m             \u001b[0marray\u001b[0m \u001b[0;34m=\u001b[0m \u001b[0mnumpy\u001b[0m\u001b[0;34m.\u001b[0m\u001b[0marray\u001b[0m\u001b[0;34m(\u001b[0m\u001b[0marray\u001b[0m\u001b[0;34m,\u001b[0m \u001b[0morder\u001b[0m\u001b[0;34m=\u001b[0m\u001b[0morder\u001b[0m\u001b[0;34m,\u001b[0m \u001b[0mdtype\u001b[0m\u001b[0;34m=\u001b[0m\u001b[0mdtype\u001b[0m\u001b[0;34m)\u001b[0m\u001b[0;34m\u001b[0m\u001b[0;34m\u001b[0m\u001b[0m\n\u001b[1;32m    838\u001b[0m         \u001b[0;32melse\u001b[0m\u001b[0;34m:\u001b[0m\u001b[0;34m\u001b[0m\u001b[0;34m\u001b[0m\u001b[0m\n\u001b[0;32m--> 839\u001b[0;31m             \u001b[0marray\u001b[0m \u001b[0;34m=\u001b[0m \u001b[0mnumpy\u001b[0m\u001b[0;34m.\u001b[0m\u001b[0masarray\u001b[0m\u001b[0;34m(\u001b[0m\u001b[0marray\u001b[0m\u001b[0;34m,\u001b[0m \u001b[0morder\u001b[0m\u001b[0;34m=\u001b[0m\u001b[0morder\u001b[0m\u001b[0;34m,\u001b[0m \u001b[0mdtype\u001b[0m\u001b[0;34m=\u001b[0m\u001b[0mdtype\u001b[0m\u001b[0;34m)\u001b[0m\u001b[0;34m\u001b[0m\u001b[0;34m\u001b[0m\u001b[0m\n\u001b[0m\u001b[1;32m    840\u001b[0m \u001b[0;34m\u001b[0m\u001b[0m\n\u001b[1;32m    841\u001b[0m         \u001b[0;31m# At this point array is a NumPy ndarray. We convert it to an array\u001b[0m\u001b[0;34m\u001b[0m\u001b[0;34m\u001b[0m\u001b[0m\n",
            "\u001b[0;31mValueError\u001b[0m: could not convert string to float: 'AUGGCUUCAUCGGAAGAUGUAAUCAAAGAGUUUAUGCGAUUUAAGGUCCGCAUGGAGGGAUCUGUCAACGGGCACGAAUUUGAAAUUGAAGGAGAAGGGGAGGGGCGCCCAUAUGAGGGCACUCAAACCGCUAAACUCAAGGUAACGAAGGGCGGACCUCUUCCUUUCGCCUGGGACAUUCUCUCACCUCAAUUCCAAUAUGGCUCCAAGGCGUAUGUUAAACACCCGGCCGACAUACCGGAUUACCUGAAACUUUCAUUUCCGGAAGGAUUUAAAUGGGAACGUGUGAUGAACUUUGAAGAUGGUGGUGUUGUUACCGUAACCCAAGAUUCAUCGCUGCAGGAUGGGGAAUUUAUAUAUAAGGUAAAACUCCGAGGUACAAAUUUCCCAUCCGAUGGACCGGUCAUGCAAAAAAAGACCAUGGGAUGGGAAGCUUCAACAGAGCGGAUGUAUCCGGAGGAUGGCGCACUGAAGGGCGAAAUAAAAAUGCGUCUUAAGCUAAAGGACGGGGGACAUUACGAUGCCGAGGUAAAAACGACUUAUAUGGCGAAGAAACCGGUCCAGCUGCCAGGGGCGUACAAAACGGACAUAAAACUGGACAUCACGUCUCAUAAUGAGGACUAUACGAUAGUAGAGCAGUAUGAGCGGGCUGAGGGUCGGCACUCUACCGGGGCAUGA'"
          ]
        }
      ]
    },
    {
      "cell_type": "markdown",
      "source": [
        "# Solution"
      ],
      "metadata": {
        "id": "EpsTVE3riEhs"
      }
    },
    {
      "cell_type": "markdown",
      "source": [
        "You realise that Machine learning methods like random forests only accept number encoded inputs. You set about writing some code to 'One hot encode' your RNA sequence..Give this 20 to 30 minutes..If you are stuck you can see a solution below."
      ],
      "metadata": {
        "id": "CxBFeffP2UYr"
      }
    },
    {
      "cell_type": "code",
      "source": [
        "\n",
        "def one_hot_encode(seq):\n",
        "    \"\"\"Write some code that converts RNA sequences into arrays through one hot encoding\"\"\""
      ],
      "metadata": {
        "id": "m28C202jbK7h"
      },
      "execution_count": null,
      "outputs": []
    },
    {
      "cell_type": "code",
      "source": [
        "# @title Example Answer\n",
        "\n",
        "def one_hot_encode(seq):\n",
        "    rna_ohe= {'A': 0, 'U': 1, 'G': 2, 'C': 3}\n",
        "    one_hot_encoded = []\n",
        "    for nucleotide in seq:\n",
        "        rep = np.zeros(4)\n",
        "        rep[rna_ohe[nucleotide]] = 1\n",
        "        one_hot_encoded += (list(rep))\n",
        "    return one_hot_encoded\n",
        "\n",
        "print(len(one_hot_encode('ACGU')))"
      ],
      "metadata": {
        "colab": {
          "base_uri": "https://localhost:8080/"
        },
        "id": "QFzqvzQEy8ui",
        "outputId": "4463717a-36b2-4982-b327-799be4bc0403"
      },
      "execution_count": 7,
      "outputs": [
        {
          "output_type": "stream",
          "name": "stdout",
          "text": [
            "16\n"
          ]
        }
      ]
    },
    {
      "cell_type": "markdown",
      "source": [
        "#Ready to train our model"
      ],
      "metadata": {
        "id": "GBQRFUUFys9D"
      }
    },
    {
      "cell_type": "markdown",
      "source": [
        "Your making good progress and thinking about your swimming pool after your shiney ML method get's you a promotion 😴.... back to work your ready to train your model....But when you run the following code the performance is OK.. but not quite what you had hoped for 😞....Give yourself 20-30 minutes to Optimise the model.. Further documentation can be found here:\n",
        "https://scikit-learn.org/stable/modules/generated/sklearn.ensemble.RandomForestRegressor.html"
      ],
      "metadata": {
        "id": "phwhEQhI3w08"
      }
    },
    {
      "cell_type": "code",
      "source": [
        "from sklearn.model_selection import train_test_split\n",
        "from sklearn.ensemble import RandomForestRegressor\n",
        "from sklearn.metrics import mean_squared_error\n",
        "from scipy.stats import pearsonr\n",
        "from scipy.stats import spearmanr\n",
        "\n",
        "# Prepare the data\n",
        "\n",
        "df['one_hot_encoded_seqs']=[one_hot_encode(seq) for seq in df.Sequence]\n",
        "\n",
        "X = list(df['one_hot_encoded_seqs'])  # Assuming you want to use the sequence as input\n",
        "y = list(df['Value'])\n",
        "\n",
        "\n",
        "\n",
        "# Split data into training and testing sets\n",
        "X_train, X_test, y_train, y_test = train_test_split(X, y, test_size=0.2, random_state=42)\n",
        "\n",
        "\n",
        "# Train the Random Forest model\n",
        "model = RandomForestRegressor(n_estimators=1, max_depth = 2, random_state=42) # You can adjust hyperparameters\n",
        "model.fit(X_train, y_train)\n",
        "\n",
        "\n",
        "# Make predictions on the test set\n",
        "y_pred = model.predict(X_test)\n",
        "\n",
        "\n",
        "# Evaluate the model (example: Mean Squared Error)\n",
        "mse = mean_squared_error(y_test, y_pred)\n",
        "print(\"Mean Squared Error:\", mse)\n",
        "\n",
        "# Evaluate the model (example: Pearson Correlation)\n",
        "corr = pearsonr(y_test, y_pred)\n",
        "print(\"Pearson corr:\", corr)\n",
        "\n",
        "# Evaluate the model (example: Spearmann Correlation)\n",
        "corr = spearmanr(y_test, y_pred)\n",
        "print(\"Spearman corr:\", corr)\n",
        "\n",
        "\n"
      ],
      "metadata": {
        "id": "iKaghU1IijCE"
      },
      "execution_count": null,
      "outputs": []
    },
    {
      "cell_type": "markdown",
      "source": [
        "# Final Steps checking on the hidden test set"
      ],
      "metadata": {
        "id": "NlS7jMWB0yxZ"
      }
    },
    {
      "cell_type": "markdown",
      "source": [
        "The CEO is happy with your work but asks a famous ML expert who works with teh company to get their best performance on the dataset they report back with PEARSON=0.7 on this final hidden test set...try to write the code to do this.Did you do better than Pearson=0.7 ? If so congratulations!! 🎉 .... If not dont worry you've done a great job anyway 👏"
      ],
      "metadata": {
        "id": "DrYfy1i602uN"
      }
    },
    {
      "cell_type": "code",
      "source": [
        "\"\"\"First download this test dataset\"\"\"\n",
        "!wget https://raw.githubusercontent.com/jonglees/Codon-optimisation-practical/refs/heads/main/mRFP_Expression_test.csv"
      ],
      "metadata": {
        "id": "aFH034dr0zgq"
      },
      "execution_count": null,
      "outputs": []
    },
    {
      "cell_type": "code",
      "source": [
        "\"\"\"Now produce predictions on this test set and report pearson and spearmann correlations\"\"\"\n",
        "df_test = pd.read_csv('mRFP_Expression_test.csv')"
      ],
      "metadata": {
        "id": "zmGJAdSm1d4R"
      },
      "execution_count": 11,
      "outputs": []
    },
    {
      "cell_type": "code",
      "source": [
        "# @title Example Answer\n",
        "\n",
        "df_test['one_hot_encoded_seqs']=[one_hot_encode(seq) for seq in df_test.Sequence]\n",
        "X_test_hidden = list(df_test['one_hot_encoded_seqs'])  # Assuming you want to use the sequence as input\n",
        "y_test_hidden = list(df_test['Value'])\n",
        "\n",
        "# Make predictions on the test set\n",
        "y_pred_hidden = model.predict(X_test_hidden)\n",
        "\n",
        "\n",
        "\n",
        "# Evaluate the model (example: Pearson Correlation)\n",
        "corr = pearsonr(y_test_hidden, y_pred_hidden)\n",
        "print(\"Pearson corr:\", corr)\n"
      ],
      "metadata": {
        "cellView": "form",
        "id": "M65GgVpCWaHd"
      },
      "execution_count": null,
      "outputs": []
    },
    {
      "cell_type": "markdown",
      "source": [
        "# One last thing..."
      ],
      "metadata": {
        "id": "SDGXoZGx6B7U"
      }
    },
    {
      "cell_type": "markdown",
      "source": [
        "You decide to do some bioinformatics exploration of the data. You remember from your MSc its possible to look at which features in the input the random forest finds most useful: help https://scikit-learn.org/stable/auto_examples/ensemble/plot_forest_importances.html. Combinine your ML and Bio skills to explore the dataset a bit more...rsearch like this is as key to industry as it is to academia..?"
      ],
      "metadata": {
        "id": "DCTpHNZB6vGM"
      }
    },
    {
      "cell_type": "code",
      "source": [
        "# @title Example Answer\n",
        "import seaborn as sns\n",
        "dna_positions=[]\n",
        "importance_scores=[]\n",
        "for dna_position, importance in enumerate(model.feature_importances_):\n",
        "    dna_positions.append(dna_position)\n",
        "    importance_scores.append(importance)\n",
        "sns.scatterplot(x=dna_positions, y=importance_scores)\n",
        "\n",
        "\n"
      ],
      "metadata": {
        "id": "fpJFQQKFWafr",
        "cellView": "form"
      },
      "execution_count": null,
      "outputs": []
    }
  ]
}